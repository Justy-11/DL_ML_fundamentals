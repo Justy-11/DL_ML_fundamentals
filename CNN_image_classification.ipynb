{
  "nbformat": 4,
  "nbformat_minor": 0,
  "metadata": {
    "colab": {
      "provenance": []
    },
    "kernelspec": {
      "name": "python3",
      "display_name": "Python 3"
    },
    "language_info": {
      "name": "python"
    }
  },
  "cells": [
    {
      "cell_type": "code",
      "execution_count": 26,
      "metadata": {
        "id": "M36Tzr3pz8_H"
      },
      "outputs": [],
      "source": [
        "import tensorflow as tf\n",
        "from tensorflow.keras import datasets\n",
        "import matplotlib.pyplot as plt\n",
        "import numpy as np"
      ]
    },
    {
      "cell_type": "code",
      "source": [
        "(X_train, y_train), (X_test, y_test) = datasets.cifar10.load_data()\n",
        "X_train.shape, y_train.shape, X_test.shape, y_test.shape"
      ],
      "metadata": {
        "colab": {
          "base_uri": "https://localhost:8080/"
        },
        "id": "0xn3Ptz60hyf",
        "outputId": "9bf1865a-6b69-4bda-9c4d-5030c762ff54"
      },
      "execution_count": 23,
      "outputs": [
        {
          "output_type": "execute_result",
          "data": {
            "text/plain": [
              "((50000, 32, 32, 3), (50000, 1), (10000, 32, 32, 3), (10000, 1))"
            ]
          },
          "metadata": {},
          "execution_count": 23
        }
      ]
    },
    {
      "cell_type": "code",
      "source": [
        "X_train[0].shape"
      ],
      "metadata": {
        "colab": {
          "base_uri": "https://localhost:8080/"
        },
        "id": "rgBWTsrv1Fif",
        "outputId": "717c8b6f-ba4a-487b-f372-b6ab7c128dcd"
      },
      "execution_count": 7,
      "outputs": [
        {
          "output_type": "execute_result",
          "data": {
            "text/plain": [
              "(32, 32, 3)"
            ]
          },
          "metadata": {},
          "execution_count": 7
        }
      ]
    },
    {
      "cell_type": "code",
      "source": [
        "classes = [\"airplane\", \"automobile\", \"bird\", \"cat\", \"deer\", \"dog\", \"frog\", \"horse\", \"ship\", \"truck\"]"
      ],
      "metadata": {
        "id": "dAfYxLG418yc"
      },
      "execution_count": 6,
      "outputs": []
    },
    {
      "cell_type": "code",
      "source": [
        "classes[4]"
      ],
      "metadata": {
        "colab": {
          "base_uri": "https://localhost:8080/",
          "height": 35
        },
        "id": "V_ImAO3Z3zTc",
        "outputId": "10d61058-bf14-4cfa-c1c0-be524544208c"
      },
      "execution_count": 15,
      "outputs": [
        {
          "output_type": "execute_result",
          "data": {
            "text/plain": [
              "'deer'"
            ],
            "application/vnd.google.colaboratory.intrinsic+json": {
              "type": "string"
            }
          },
          "metadata": {},
          "execution_count": 15
        }
      ]
    },
    {
      "cell_type": "code",
      "source": [
        "y_train[:5]  # its a 2D array"
      ],
      "metadata": {
        "colab": {
          "base_uri": "https://localhost:8080/"
        },
        "id": "mRDd1wP-2WEE",
        "outputId": "b354149f-9f71-43d7-e39e-043b97b95a94"
      },
      "execution_count": 9,
      "outputs": [
        {
          "output_type": "execute_result",
          "data": {
            "text/plain": [
              "array([[6],\n",
              "       [9],\n",
              "       [9],\n",
              "       [4],\n",
              "       [1]], dtype=uint8)"
            ]
          },
          "metadata": {},
          "execution_count": 9
        }
      ]
    },
    {
      "cell_type": "code",
      "source": [
        "# reshape it to 1D array\n",
        "\"\"\"\n",
        "The -1 parameter in reshape(-1, ) is a placeholder for an unknown dimension. When you use -1 in one of the\n",
        "dimensions, numpy will automatically calculate the size of that dimension based on the size of the original\n",
        "array and the size of the other dimensions. This is often used when you want to reshape an array but don't\n",
        "want to specify the size of one of the dimensions explicitly.\n",
        "\n",
        "So, in this case, y_train.reshape(-1, ) means that numpy should reshape y_train into a 1-dimensional array,\n",
        "and it will automatically calculate the size of that dimension based on the original shape of y_train.\n",
        "\"\"\"\n",
        "y_train = y_train.reshape(-1, )\n",
        "y_train[:5], y_train[0]"
      ],
      "metadata": {
        "colab": {
          "base_uri": "https://localhost:8080/"
        },
        "id": "bBdRyBD92vL9",
        "outputId": "21c2abc7-9906-48ec-9767-d3ae7683216a"
      },
      "execution_count": 16,
      "outputs": [
        {
          "output_type": "execute_result",
          "data": {
            "text/plain": [
              "(array([6, 9, 9, 4, 1], dtype=uint8), 6)"
            ]
          },
          "metadata": {},
          "execution_count": 16
        }
      ]
    },
    {
      "cell_type": "code",
      "source": [
        "def plot_sample(x, y, index):\n",
        "  plt.figure(figsize = (15, 2))\n",
        "  plt.imshow(x[index])\n",
        "  plt.xlabel(classes[y[index]])"
      ],
      "metadata": {
        "id": "UAgSNw2_1TL2"
      },
      "execution_count": 17,
      "outputs": []
    },
    {
      "cell_type": "code",
      "source": [
        "plot_sample(X_train, y_train, 2)"
      ],
      "metadata": {
        "colab": {
          "base_uri": "https://localhost:8080/",
          "height": 237
        },
        "id": "celWaDfm1YFA",
        "outputId": "ec4333c2-01f7-4876-b266-a50ca02e247f"
      },
      "execution_count": 18,
      "outputs": [
        {
          "output_type": "display_data",
          "data": {
            "text/plain": [
              "<Figure size 1500x200 with 1 Axes>"
            ],
            "image/png": "[encoded data removed]"
          },
          "metadata": {}
        }
      ]
    },
    {
      "cell_type": "code",
      "source": [
        "X_train.min(), X_train.max()"
      ],
      "metadata": {
        "colab": {
          "base_uri": "https://localhost:8080/"
        },
        "id": "ja308h155Fv9",
        "outputId": "1bf35bd1-84f7-4904-a10e-adfc50d5bd4d"
      },
      "execution_count": 24,
      "outputs": [
        {
          "output_type": "execute_result",
          "data": {
            "text/plain": [
              "(0, 255)"
            ]
          },
          "metadata": {},
          "execution_count": 24
        }
      ]
    },
    {
      "cell_type": "code",
      "source": [
        "# normalize\n",
        "X_train = X_train / 255.0\n",
        "X_test = X_test / 255.0\n",
        "X_train.min(), X_train.max(), X_test.min(), X_test.max()"
      ],
      "metadata": {
        "colab": {
          "base_uri": "https://localhost:8080/"
        },
        "id": "zAzhJqEv4gJv",
        "outputId": "6924d335-c690-4ce5-c2cd-bf80c798471e"
      },
      "execution_count": 25,
      "outputs": [
        {
          "output_type": "execute_result",
          "data": {
            "text/plain": [
              "(0.0, 1.0, 0.0, 1.0)"
            ]
          },
          "metadata": {},
          "execution_count": 25
        }
      ]
    },
    {
      "cell_type": "code",
      "source": [
        "tf.random.set_seed(42)\n",
        "\n",
        "# tf.keras.layers.Conv2D: This is a convolutional layer with 32 filters, a kernel size of (3,3), and ReLU activation. The input_shape parameter specifies\n",
        "# the shape of the input data, which is expected to be 32x32 pixels with 3 color channels (RGB).\n",
        "\n",
        "# tf.keras.layers.MaxPool2D: This is a max-pooling layer with a pool size of (2,2). It is used to downsample the spatial dimensions of the feature maps.\n",
        "# Another set of convolutional and max-pooling layers with 64 filters is defined similarly.\n",
        "\n",
        "# tf.keras.layers.Flatten(): This layer flattens the 2D feature maps into a 1D vector to prepare for the fully connected layers.\n",
        "cnn_model = tf.keras.Sequential([\n",
        "        # cnn - 2 cnn layers\n",
        "        tf.keras.layers.Conv2D(filters=32,\n",
        "                               kernel_size=(3,3),\n",
        "                               activation = \"relu\",\n",
        "                               input_shape=(32, 32, 3)),\n",
        "        tf.keras.layers.MaxPool2D(2, 2),\n",
        "\n",
        "        tf.keras.layers.Conv2D(filters=64,\n",
        "                               kernel_size=(3,3),\n",
        "                               activation = \"relu\"),\n",
        "        tf.keras.layers.MaxPool2D(2, 2),\n",
        "\n",
        "        # dense\n",
        "        tf.keras.layers.Flatten(),\n",
        "        tf.keras.layers.Dense(64, activation = \"relu\"),\n",
        "        tf.keras.layers.Dense(10, activation = \"softmax\")\n",
        "])\n",
        "\n",
        "cnn_model.compile(loss=tf.keras.losses.SparseCategoricalCrossentropy(),\n",
        "                        optimizer=tf.keras.optimizers.Adam(),\n",
        "                        metrics=[\"accuracy\"])\n",
        "\n",
        "history_of_cnn_model = cnn_model.fit(X_train,\n",
        "                                     y_train,\n",
        "                                     epochs=10)"
      ],
      "metadata": {
        "colab": {
          "base_uri": "https://localhost:8080/"
        },
        "id": "r1Q2N3gE5Yyf",
        "outputId": "ee575d41-7bde-4459-ee61-d5889daf5c6e"
      },
      "execution_count": 28,
      "outputs": [
        {
          "output_type": "stream",
          "name": "stdout",
          "text": [
            "Epoch 1/10\n",
            "1563/1563 [==============================] - 70s 44ms/step - loss: 1.4645 - accuracy: 0.4754\n",
            "Epoch 2/10\n",
            "1563/1563 [==============================] - 58s 37ms/step - loss: 1.1149 - accuracy: 0.6111\n",
            "Epoch 3/10\n",
            "1563/1563 [==============================] - 61s 39ms/step - loss: 0.9834 - accuracy: 0.6574\n",
            "Epoch 4/10\n",
            "1563/1563 [==============================] - 55s 35ms/step - loss: 0.9033 - accuracy: 0.6871\n",
            "Epoch 5/10\n",
            "1563/1563 [==============================] - 55s 35ms/step - loss: 0.8362 - accuracy: 0.7111\n",
            "Epoch 6/10\n",
            "1563/1563 [==============================] - 57s 36ms/step - loss: 0.7749 - accuracy: 0.7345\n",
            "Epoch 7/10\n",
            "1563/1563 [==============================] - 55s 35ms/step - loss: 0.7295 - accuracy: 0.7480\n",
            "Epoch 8/10\n",
            "1563/1563 [==============================] - 55s 36ms/step - loss: 0.6798 - accuracy: 0.7641\n",
            "Epoch 9/10\n",
            "1563/1563 [==============================] - 57s 36ms/step - loss: 0.6402 - accuracy: 0.7768\n",
            "Epoch 10/10\n",
            "1563/1563 [==============================] - 55s 35ms/step - loss: 0.6027 - accuracy: 0.7920\n"
          ]
        }
      ]
    },
    {
      "cell_type": "code",
      "source": [
        "cnn_model.evaluate(X_test, y_test)"
      ],
      "metadata": {
        "colab": {
          "base_uri": "https://localhost:8080/"
        },
        "id": "RxYvgN2e--mg",
        "outputId": "87ac5416-3b42-4647-d9a5-4d7cd6ec54ca"
      },
      "execution_count": 29,
      "outputs": [
        {
          "output_type": "stream",
          "name": "stdout",
          "text": [
            "313/313 [==============================] - 5s 13ms/step - loss: 0.9313 - accuracy: 0.7000\n"
          ]
        },
        {
          "output_type": "execute_result",
          "data": {
            "text/plain": [
              "[0.9312798976898193, 0.699999988079071]"
            ]
          },
          "metadata": {},
          "execution_count": 29
        }
      ]
    },
    {
      "cell_type": "code",
      "source": [
        "y_test[:5]  # 2D"
      ],
      "metadata": {
        "colab": {
          "base_uri": "https://localhost:8080/"
        },
        "id": "A7PvGDcWBtsS",
        "outputId": "b48a80e4-e40e-47ef-eef0-95598e0aeeac"
      },
      "execution_count": 30,
      "outputs": [
        {
          "output_type": "execute_result",
          "data": {
            "text/plain": [
              "array([[3],\n",
              "       [8],\n",
              "       [8],\n",
              "       [0],\n",
              "       [6]], dtype=uint8)"
            ]
          },
          "metadata": {},
          "execution_count": 30
        }
      ]
    },
    {
      "cell_type": "code",
      "source": [
        "y_test = y_test.reshape(-1, )"
      ],
      "metadata": {
        "id": "3eqTFy4cCAw8"
      },
      "execution_count": 32,
      "outputs": []
    },
    {
      "cell_type": "code",
      "source": [
        "plot_sample(X_test, y_test, 1)"
      ],
      "metadata": {
        "colab": {
          "base_uri": "https://localhost:8080/",
          "height": 237
        },
        "id": "TAwrBCBKCLad",
        "outputId": "ff3d16e8-ed19-4e65-d300-36e2bfd11a20"
      },
      "execution_count": 33,
      "outputs": [
        {
          "output_type": "display_data",
          "data": {
            "text/plain": [
              "<Figure size 1500x200 with 1 Axes>"
            ],
            "image/png": "[encoded data removed]"
          },
          "metadata": {}
        }
      ]
    },
    {
      "cell_type": "code",
      "source": [
        "#  predict above sample\n",
        "y_pred = cnn_model.predict(X_test)\n",
        "y_pred[:5], y_pred[0]"
      ],
      "metadata": {
        "colab": {
          "base_uri": "https://localhost:8080/"
        },
        "id": "mQTi0iXSCTze",
        "outputId": "c131da18-3b9b-4316-8833-b8e4b5bb6b96"
      },
      "execution_count": 35,
      "outputs": [
        {
          "output_type": "stream",
          "name": "stdout",
          "text": [
            "313/313 [==============================] - 3s 11ms/step\n"
          ]
        },
        {
          "output_type": "execute_result",
          "data": {
            "text/plain": [
              "(array([[2.92663346e-03, 6.67193453e-05, 2.33902247e-03, 7.97047019e-01,\n",
              "         1.26941624e-04, 1.39434680e-01, 4.88598421e-02, 3.03851466e-05,\n",
              "         9.13364068e-03, 3.50504888e-05],\n",
              "        [9.43064969e-03, 1.78822055e-01, 2.60418659e-04, 4.95881807e-07,\n",
              "         5.65156704e-08, 6.25925622e-09, 8.14129564e-09, 1.13693794e-07,\n",
              "         8.11416805e-01, 6.93157781e-05],\n",
              "        [3.12654138e-01, 3.51333618e-01, 9.17042699e-03, 3.54344025e-03,\n",
              "         3.37096630e-03, 3.71651549e-04, 4.29295376e-03, 9.97743756e-03,\n",
              "         2.92752385e-01, 1.25330072e-02],\n",
              "        [6.84708774e-01, 4.75339871e-03, 4.39072438e-02, 1.00398285e-03,\n",
              "         2.44594291e-01, 1.80178267e-05, 3.34052718e-04, 6.09646318e-03,\n",
              "         1.45700416e-02, 1.36504414e-05],\n",
              "        [1.57288687e-05, 1.45479282e-06, 2.37245532e-03, 6.57126680e-03,\n",
              "         9.19556141e-01, 1.62260840e-03, 6.98323920e-02, 2.30788773e-05,\n",
              "         4.10518714e-06, 8.00514954e-07]], dtype=float32),\n",
              " array([2.9266335e-03, 6.6719345e-05, 2.3390225e-03, 7.9704702e-01,\n",
              "        1.2694162e-04, 1.3943468e-01, 4.8859842e-02, 3.0385147e-05,\n",
              "        9.1336407e-03, 3.5050489e-05], dtype=float32))"
            ]
          },
          "metadata": {},
          "execution_count": 35
        }
      ]
    },
    {
      "cell_type": "code",
      "source": [
        "# array([2.9266335e-03, 6.6719345e-05, 2.3390225e-03, 7.9704702e-01,\n",
        "        # 1.2694162e-04, 1.3943468e-01, 4.8859842e-02, 3.0385147e-05,\n",
        "        # 9.1336407e-03, 3.5050489e-05], dtype=float32)),\n",
        "        # max in this - > np.argmax(y_pred[index])\n",
        "y_pred_classes = [np.argmax(element) for element in y_pred]\n",
        "y_pred_classes[:5]"
      ],
      "metadata": {
        "colab": {
          "base_uri": "https://localhost:8080/"
        },
        "id": "TNXWnrrnCj2O",
        "outputId": "e505780c-e8b5-4e60-97a2-79c937679eda"
      },
      "execution_count": 46,
      "outputs": [
        {
          "output_type": "execute_result",
          "data": {
            "text/plain": [
              "[3, 8, 1, 0, 4]"
            ]
          },
          "metadata": {},
          "execution_count": 46
        }
      ]
    },
    {
      "cell_type": "code",
      "source": [
        "y_test[:5]"
      ],
      "metadata": {
        "colab": {
          "base_uri": "https://localhost:8080/"
        },
        "id": "T8Nwy50dDFuo",
        "outputId": "dd9130b8-74fd-4123-fff6-f524b1a193bd"
      },
      "execution_count": 47,
      "outputs": [
        {
          "output_type": "execute_result",
          "data": {
            "text/plain": [
              "array([3, 8, 8, 0, 6], dtype=uint8)"
            ]
          },
          "metadata": {},
          "execution_count": 47
        }
      ]
    },
    {
      "cell_type": "code",
      "source": [
        "plot_sample(X_test, y_test, 3)"
      ],
      "metadata": {
        "colab": {
          "base_uri": "https://localhost:8080/",
          "height": 237
        },
        "id": "b-85UzNKEB1a",
        "outputId": "9fad4c6b-e443-4dcc-e2d0-2b8e1391a027"
      },
      "execution_count": 48,
      "outputs": [
        {
          "output_type": "display_data",
          "data": {
            "text/plain": [
              "<Figure size 1500x200 with 1 Axes>"
            ],
            "image/png": "[encoded data removed]"
          },
          "metadata": {}
        }
      ]
    },
    {
      "cell_type": "code",
      "source": [
        "classes[y_pred_classes[3]]"
      ],
      "metadata": {
        "colab": {
          "base_uri": "https://localhost:8080/",
          "height": 35
        },
        "id": "F8lXYSf0EXsb",
        "outputId": "1a4dbe3b-2621-4ee7-dba4-101a4945f978"
      },
      "execution_count": 49,
      "outputs": [
        {
          "output_type": "execute_result",
          "data": {
            "text/plain": [
              "'airplane'"
            ],
            "application/vnd.google.colaboratory.intrinsic+json": {
              "type": "string"
            }
          },
          "metadata": {},
          "execution_count": 49
        }
      ]
    },
    {
      "cell_type": "code",
      "source": [
        "from sklearn.metrics import confusion_matrix, classification_report\n",
        "print(\"classification report \\n\", classification_report(y_test, y_pred_classes))"
      ],
      "metadata": {
        "colab": {
          "base_uri": "https://localhost:8080/"
        },
        "id": "pmZ5Hx_aEg9Z",
        "outputId": "1275f1e7-766c-4797-e95e-e9b5e7c88446"
      },
      "execution_count": 50,
      "outputs": [
        {
          "output_type": "stream",
          "name": "stdout",
          "text": [
            "classification report \n",
            "               precision    recall  f1-score   support\n",
            "\n",
            "           0       0.75      0.74      0.75      1000\n",
            "           1       0.83      0.81      0.82      1000\n",
            "           2       0.63      0.55      0.59      1000\n",
            "           3       0.53      0.47      0.50      1000\n",
            "           4       0.59      0.69      0.64      1000\n",
            "           5       0.63      0.60      0.62      1000\n",
            "           6       0.80      0.77      0.78      1000\n",
            "           7       0.62      0.83      0.71      1000\n",
            "           8       0.81      0.81      0.81      1000\n",
            "           9       0.83      0.73      0.78      1000\n",
            "\n",
            "    accuracy                           0.70     10000\n",
            "   macro avg       0.70      0.70      0.70     10000\n",
            "weighted avg       0.70      0.70      0.70     10000\n",
            "\n"
          ]
        }
      ]
    },
    {
      "cell_type": "code",
      "source": [],
      "metadata": {
        "id": "eNcswcDzFq5K"
      },
      "execution_count": null,
      "outputs": []
    }
  ]
}