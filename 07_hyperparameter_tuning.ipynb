{
  "nbformat": 4,
  "nbformat_minor": 0,
  "metadata": {
    "colab": {
      "provenance": [],
      "authorship_tag": "ABX9TyMApEKmTJbU4BdBmOt+FHT7",
      "include_colab_link": true
    },
    "kernelspec": {
      "name": "python3",
      "display_name": "Python 3"
    },
    "language_info": {
      "name": "python"
    }
  },
  "cells": [
    {
      "cell_type": "markdown",
      "metadata": {
        "id": "view-in-github",
        "colab_type": "text"
      },
      "source": [
        "<a href=\"https://colab.research.google.com/github/Justy-11/deeplearning_fundamentals/blob/main/07_hyperparameter_tuning.ipynb\" target=\"_parent\"><img src=\"https://colab.research.google.com/assets/colab-badge.svg\" alt=\"Open In Colab\"/></a>"
      ]
    },
    {
      "cell_type": "code",
      "execution_count": 1,
      "metadata": {
        "id": "z7GUDPugOylA"
      },
      "outputs": [],
      "source": [
        "import numpy as np\n",
        "import pandas as pd"
      ]
    },
    {
      "cell_type": "code",
      "source": [
        "!pip install keras-tuner --upgrade"
      ],
      "metadata": {
        "colab": {
          "base_uri": "https://localhost:8080/"
        },
        "id": "mDMp97DVQEAe",
        "outputId": "36c85f7b-a8c4-4fef-fae1-cb4ace5525c1"
      },
      "execution_count": 2,
      "outputs": [
        {
          "output_type": "stream",
          "name": "stdout",
          "text": [
            "Requirement already satisfied: keras-tuner in /usr/local/lib/python3.10/dist-packages (1.4.5)\n",
            "Requirement already satisfied: keras-core in /usr/local/lib/python3.10/dist-packages (from keras-tuner) (0.1.7)\n",
            "Requirement already satisfied: packaging in /usr/local/lib/python3.10/dist-packages (from keras-tuner) (23.2)\n",
            "Requirement already satisfied: requests in /usr/local/lib/python3.10/dist-packages (from keras-tuner) (2.31.0)\n",
            "Requirement already satisfied: kt-legacy in /usr/local/lib/python3.10/dist-packages (from keras-tuner) (1.0.5)\n",
            "Requirement already satisfied: absl-py in /usr/local/lib/python3.10/dist-packages (from keras-core->keras-tuner) (1.4.0)\n",
            "Requirement already satisfied: numpy in /usr/local/lib/python3.10/dist-packages (from keras-core->keras-tuner) (1.23.5)\n",
            "Requirement already satisfied: rich in /usr/local/lib/python3.10/dist-packages (from keras-core->keras-tuner) (13.6.0)\n",
            "Requirement already satisfied: namex in /usr/local/lib/python3.10/dist-packages (from keras-core->keras-tuner) (0.0.7)\n",
            "Requirement already satisfied: h5py in /usr/local/lib/python3.10/dist-packages (from keras-core->keras-tuner) (3.9.0)\n",
            "Requirement already satisfied: dm-tree in /usr/local/lib/python3.10/dist-packages (from keras-core->keras-tuner) (0.1.8)\n",
            "Requirement already satisfied: charset-normalizer<4,>=2 in /usr/local/lib/python3.10/dist-packages (from requests->keras-tuner) (3.3.1)\n",
            "Requirement already satisfied: idna<4,>=2.5 in /usr/local/lib/python3.10/dist-packages (from requests->keras-tuner) (3.4)\n",
            "Requirement already satisfied: urllib3<3,>=1.21.1 in /usr/local/lib/python3.10/dist-packages (from requests->keras-tuner) (2.0.7)\n",
            "Requirement already satisfied: certifi>=2017.4.17 in /usr/local/lib/python3.10/dist-packages (from requests->keras-tuner) (2023.7.22)\n",
            "Requirement already satisfied: markdown-it-py>=2.2.0 in /usr/local/lib/python3.10/dist-packages (from rich->keras-core->keras-tuner) (3.0.0)\n",
            "Requirement already satisfied: pygments<3.0.0,>=2.13.0 in /usr/local/lib/python3.10/dist-packages (from rich->keras-core->keras-tuner) (2.16.1)\n",
            "Requirement already satisfied: mdurl~=0.1 in /usr/local/lib/python3.10/dist-packages (from markdown-it-py>=2.2.0->rich->keras-core->keras-tuner) (0.1.2)\n"
          ]
        }
      ]
    },
    {
      "cell_type": "code",
      "source": [
        "import keras_tuner\n",
        "from tensorflow import keras"
      ],
      "metadata": {
        "colab": {
          "base_uri": "https://localhost:8080/"
        },
        "id": "U_LhzdYdQGeo",
        "outputId": "f031a399-39b8-434f-addb-bceedfccca62"
      },
      "execution_count": 3,
      "outputs": [
        {
          "output_type": "stream",
          "name": "stdout",
          "text": [
            "Using TensorFlow backend\n"
          ]
        }
      ]
    },
    {
      "cell_type": "code",
      "source": [
        "df = pd.read_csv('/content/diabetes.csv')"
      ],
      "metadata": {
        "id": "EORuwstdQdP4"
      },
      "execution_count": 4,
      "outputs": []
    },
    {
      "cell_type": "code",
      "source": [
        "df.head()"
      ],
      "metadata": {
        "colab": {
          "base_uri": "https://localhost:8080/",
          "height": 206
        },
        "id": "8SD33FY9RNtg",
        "outputId": "71bb4164-1fe2-486f-f52b-56f4c7fd8310"
      },
      "execution_count": 5,
      "outputs": [
        {
          "output_type": "execute_result",
          "data": {
            "text/plain": [
              "   Pregnancies  Glucose  BloodPressure  SkinThickness  Insulin   BMI  \\\n",
              "0            6      148             72             35        0  33.6   \n",
              "1            1       85             66             29        0  26.6   \n",
              "2            8      183             64              0        0  23.3   \n",
              "3            1       89             66             23       94  28.1   \n",
              "4            0      137             40             35      168  43.1   \n",
              "\n",
              "   DiabetesPedigreeFunction  Age  Outcome  \n",
              "0                     0.627   50        1  \n",
              "1                     0.351   31        0  \n",
              "2                     0.672   32        1  \n",
              "3                     0.167   21        0  \n",
              "4                     2.288   33        1  "
            ],
            "text/html": [
              "\n",
              "  <div id=\"df-a310c369-7f75-4a5d-8362-e2b617f26666\" class=\"colab-df-container\">\n",
              "    <div>\n",
              "<style scoped>\n",
              "    .dataframe tbody tr th:only-of-type {\n",
              "        vertical-align: middle;\n",
              "    }\n",
              "\n",
              "    .dataframe tbody tr th {\n",
              "        vertical-align: top;\n",
              "    }\n",
              "\n",
              "    .dataframe thead th {\n",
              "        text-align: right;\n",
              "    }\n",
              "</style>\n",
              "<table border=\"1\" class=\"dataframe\">\n",
              "  <thead>\n",
              "    <tr style=\"text-align: right;\">\n",
              "      <th></th>\n",
              "      <th>Pregnancies</th>\n",
              "      <th>Glucose</th>\n",
              "      <th>BloodPressure</th>\n",
              "      <th>SkinThickness</th>\n",
              "      <th>Insulin</th>\n",
              "      <th>BMI</th>\n",
              "      <th>DiabetesPedigreeFunction</th>\n",
              "      <th>Age</th>\n",
              "      <th>Outcome</th>\n",
              "    </tr>\n",
              "  </thead>\n",
              "  <tbody>\n",
              "    <tr>\n",
              "      <th>0</th>\n",
              "      <td>6</td>\n",
              "      <td>148</td>\n",
              "      <td>72</td>\n",
              "      <td>35</td>\n",
              "      <td>0</td>\n",
              "      <td>33.6</td>\n",
              "      <td>0.627</td>\n",
              "      <td>50</td>\n",
              "      <td>1</td>\n",
              "    </tr>\n",
              "    <tr>\n",
              "      <th>1</th>\n",
              "      <td>1</td>\n",
              "      <td>85</td>\n",
              "      <td>66</td>\n",
              "      <td>29</td>\n",
              "      <td>0</td>\n",
              "      <td>26.6</td>\n",
              "      <td>0.351</td>\n",
              "      <td>31</td>\n",
              "      <td>0</td>\n",
              "    </tr>\n",
              "    <tr>\n",
              "      <th>2</th>\n",
              "      <td>8</td>\n",
              "      <td>183</td>\n",
              "      <td>64</td>\n",
              "      <td>0</td>\n",
              "      <td>0</td>\n",
              "      <td>23.3</td>\n",
              "      <td>0.672</td>\n",
              "      <td>32</td>\n",
              "      <td>1</td>\n",
              "    </tr>\n",
              "    <tr>\n",
              "      <th>3</th>\n",
              "      <td>1</td>\n",
              "      <td>89</td>\n",
              "      <td>66</td>\n",
              "      <td>23</td>\n",
              "      <td>94</td>\n",
              "      <td>28.1</td>\n",
              "      <td>0.167</td>\n",
              "      <td>21</td>\n",
              "      <td>0</td>\n",
              "    </tr>\n",
              "    <tr>\n",
              "      <th>4</th>\n",
              "      <td>0</td>\n",
              "      <td>137</td>\n",
              "      <td>40</td>\n",
              "      <td>35</td>\n",
              "      <td>168</td>\n",
              "      <td>43.1</td>\n",
              "      <td>2.288</td>\n",
              "      <td>33</td>\n",
              "      <td>1</td>\n",
              "    </tr>\n",
              "  </tbody>\n",
              "</table>\n",
              "</div>\n",
              "    <div class=\"colab-df-buttons\">\n",
              "\n",
              "  <div class=\"colab-df-container\">\n",
              "    <button class=\"colab-df-convert\" onclick=\"convertToInteractive('df-a310c369-7f75-4a5d-8362-e2b617f26666')\"\n",
              "            title=\"Convert this dataframe to an interactive table.\"\n",
              "            style=\"display:none;\">\n",
              "\n",
              "  <svg xmlns=\"http://www.w3.org/2000/svg\" height=\"24px\" viewBox=\"0 -960 960 960\">\n",
              "    <path d=\"M120-120v-720h720v720H120Zm60-500h600v-160H180v160Zm220 220h160v-160H400v160Zm0 220h160v-160H400v160ZM180-400h160v-160H180v160Zm440 0h160v-160H620v160ZM180-180h160v-160H180v160Zm440 0h160v-160H620v160Z\"/>\n",
              "  </svg>\n",
              "    </button>\n",
              "\n",
              "  <style>\n",
              "    .colab-df-container {\n",
              "      display:flex;\n",
              "      gap: 12px;\n",
              "    }\n",
              "\n",
              "    .colab-df-convert {\n",
              "      background-color: #E8F0FE;\n",
              "      border: none;\n",
              "      border-radius: 50%;\n",
              "      cursor: pointer;\n",
              "      display: none;\n",
              "      fill: #1967D2;\n",
              "      height: 32px;\n",
              "      padding: 0 0 0 0;\n",
              "      width: 32px;\n",
              "    }\n",
              "\n",
              "    .colab-df-convert:hover {\n",
              "      background-color: #E2EBFA;\n",
              "      box-shadow: 0px 1px 2px rgba(60, 64, 67, 0.3), 0px 1px 3px 1px rgba(60, 64, 67, 0.15);\n",
              "      fill: #174EA6;\n",
              "    }\n",
              "\n",
              "    .colab-df-buttons div {\n",
              "      margin-bottom: 4px;\n",
              "    }\n",
              "\n",
              "    [theme=dark] .colab-df-convert {\n",
              "      background-color: #3B4455;\n",
              "      fill: #D2E3FC;\n",
              "    }\n",
              "\n",
              "    [theme=dark] .colab-df-convert:hover {\n",
              "      background-color: #434B5C;\n",
              "      box-shadow: 0px 1px 3px 1px rgba(0, 0, 0, 0.15);\n",
              "      filter: drop-shadow(0px 1px 2px rgba(0, 0, 0, 0.3));\n",
              "      fill: #FFFFFF;\n",
              "    }\n",
              "  </style>\n",
              "\n",
              "    <script>\n",
              "      const buttonEl =\n",
              "        document.querySelector('#df-a310c369-7f75-4a5d-8362-e2b617f26666 button.colab-df-convert');\n",
              "      buttonEl.style.display =\n",
              "        google.colab.kernel.accessAllowed ? 'block' : 'none';\n",
              "\n",
              "      async function convertToInteractive(key) {\n",
              "        const element = document.querySelector('#df-a310c369-7f75-4a5d-8362-e2b617f26666');\n",
              "        const dataTable =\n",
              "          await google.colab.kernel.invokeFunction('convertToInteractive',\n",
              "                                                    [key], {});\n",
              "        if (!dataTable) return;\n",
              "\n",
              "        const docLinkHtml = 'Like what you see? Visit the ' +\n",
              "          '<a target=\"_blank\" href=https://colab.research.google.com/notebooks/data_table.ipynb>data table notebook</a>'\n",
              "          + ' to learn more about interactive tables.';\n",
              "        element.innerHTML = '';\n",
              "        dataTable['output_type'] = 'display_data';\n",
              "        await google.colab.output.renderOutput(dataTable, element);\n",
              "        const docLink = document.createElement('div');\n",
              "        docLink.innerHTML = docLinkHtml;\n",
              "        element.appendChild(docLink);\n",
              "      }\n",
              "    </script>\n",
              "  </div>\n",
              "\n",
              "\n",
              "<div id=\"df-3b79f815-4c60-442e-b281-d3486e9931c8\">\n",
              "  <button class=\"colab-df-quickchart\" onclick=\"quickchart('df-3b79f815-4c60-442e-b281-d3486e9931c8')\"\n",
              "            title=\"Suggest charts.\"\n",
              "            style=\"display:none;\">\n",
              "\n",
              "<svg xmlns=\"http://www.w3.org/2000/svg\" height=\"24px\"viewBox=\"0 0 24 24\"\n",
              "     width=\"24px\">\n",
              "    <g>\n",
              "        <path d=\"M19 3H5c-1.1 0-2 .9-2 2v14c0 1.1.9 2 2 2h14c1.1 0 2-.9 2-2V5c0-1.1-.9-2-2-2zM9 17H7v-7h2v7zm4 0h-2V7h2v10zm4 0h-2v-4h2v4z\"/>\n",
              "    </g>\n",
              "</svg>\n",
              "  </button>\n",
              "\n",
              "<style>\n",
              "  .colab-df-quickchart {\n",
              "      --bg-color: #E8F0FE;\n",
              "      --fill-color: #1967D2;\n",
              "      --hover-bg-color: #E2EBFA;\n",
              "      --hover-fill-color: #174EA6;\n",
              "      --disabled-fill-color: #AAA;\n",
              "      --disabled-bg-color: #DDD;\n",
              "  }\n",
              "\n",
              "  [theme=dark] .colab-df-quickchart {\n",
              "      --bg-color: #3B4455;\n",
              "      --fill-color: #D2E3FC;\n",
              "      --hover-bg-color: #434B5C;\n",
              "      --hover-fill-color: #FFFFFF;\n",
              "      --disabled-bg-color: #3B4455;\n",
              "      --disabled-fill-color: #666;\n",
              "  }\n",
              "\n",
              "  .colab-df-quickchart {\n",
              "    background-color: var(--bg-color);\n",
              "    border: none;\n",
              "    border-radius: 50%;\n",
              "    cursor: pointer;\n",
              "    display: none;\n",
              "    fill: var(--fill-color);\n",
              "    height: 32px;\n",
              "    padding: 0;\n",
              "    width: 32px;\n",
              "  }\n",
              "\n",
              "  .colab-df-quickchart:hover {\n",
              "    background-color: var(--hover-bg-color);\n",
              "    box-shadow: 0 1px 2px rgba(60, 64, 67, 0.3), 0 1px 3px 1px rgba(60, 64, 67, 0.15);\n",
              "    fill: var(--button-hover-fill-color);\n",
              "  }\n",
              "\n",
              "  .colab-df-quickchart-complete:disabled,\n",
              "  .colab-df-quickchart-complete:disabled:hover {\n",
              "    background-color: var(--disabled-bg-color);\n",
              "    fill: var(--disabled-fill-color);\n",
              "    box-shadow: none;\n",
              "  }\n",
              "\n",
              "  .colab-df-spinner {\n",
              "    border: 2px solid var(--fill-color);\n",
              "    border-color: transparent;\n",
              "    border-bottom-color: var(--fill-color);\n",
              "    animation:\n",
              "      spin 1s steps(1) infinite;\n",
              "  }\n",
              "\n",
              "  @keyframes spin {\n",
              "    0% {\n",
              "      border-color: transparent;\n",
              "      border-bottom-color: var(--fill-color);\n",
              "      border-left-color: var(--fill-color);\n",
              "    }\n",
              "    20% {\n",
              "      border-color: transparent;\n",
              "      border-left-color: var(--fill-color);\n",
              "      border-top-color: var(--fill-color);\n",
              "    }\n",
              "    30% {\n",
              "      border-color: transparent;\n",
              "      border-left-color: var(--fill-color);\n",
              "      border-top-color: var(--fill-color);\n",
              "      border-right-color: var(--fill-color);\n",
              "    }\n",
              "    40% {\n",
              "      border-color: transparent;\n",
              "      border-right-color: var(--fill-color);\n",
              "      border-top-color: var(--fill-color);\n",
              "    }\n",
              "    60% {\n",
              "      border-color: transparent;\n",
              "      border-right-color: var(--fill-color);\n",
              "    }\n",
              "    80% {\n",
              "      border-color: transparent;\n",
              "      border-right-color: var(--fill-color);\n",
              "      border-bottom-color: var(--fill-color);\n",
              "    }\n",
              "    90% {\n",
              "      border-color: transparent;\n",
              "      border-bottom-color: var(--fill-color);\n",
              "    }\n",
              "  }\n",
              "</style>\n",
              "\n",
              "  <script>\n",
              "    async function quickchart(key) {\n",
              "      const quickchartButtonEl =\n",
              "        document.querySelector('#' + key + ' button');\n",
              "      quickchartButtonEl.disabled = true;  // To prevent multiple clicks.\n",
              "      quickchartButtonEl.classList.add('colab-df-spinner');\n",
              "      try {\n",
              "        const charts = await google.colab.kernel.invokeFunction(\n",
              "            'suggestCharts', [key], {});\n",
              "      } catch (error) {\n",
              "        console.error('Error during call to suggestCharts:', error);\n",
              "      }\n",
              "      quickchartButtonEl.classList.remove('colab-df-spinner');\n",
              "      quickchartButtonEl.classList.add('colab-df-quickchart-complete');\n",
              "    }\n",
              "    (() => {\n",
              "      let quickchartButtonEl =\n",
              "        document.querySelector('#df-3b79f815-4c60-442e-b281-d3486e9931c8 button');\n",
              "      quickchartButtonEl.style.display =\n",
              "        google.colab.kernel.accessAllowed ? 'block' : 'none';\n",
              "    })();\n",
              "  </script>\n",
              "</div>\n",
              "    </div>\n",
              "  </div>\n"
            ]
          },
          "metadata": {},
          "execution_count": 5
        }
      ]
    },
    {
      "cell_type": "code",
      "source": [
        "# correlation between Outcome and others\n",
        "df.corr()['Outcome']"
      ],
      "metadata": {
        "colab": {
          "base_uri": "https://localhost:8080/"
        },
        "id": "Zq4Jr4uxRXXi",
        "outputId": "866e5c48-a341-4623-f953-e89124e96ecc"
      },
      "execution_count": 6,
      "outputs": [
        {
          "output_type": "execute_result",
          "data": {
            "text/plain": [
              "Pregnancies                 0.221898\n",
              "Glucose                     0.466581\n",
              "BloodPressure               0.065068\n",
              "SkinThickness               0.074752\n",
              "Insulin                     0.130548\n",
              "BMI                         0.292695\n",
              "DiabetesPedigreeFunction    0.173844\n",
              "Age                         0.238356\n",
              "Outcome                     1.000000\n",
              "Name: Outcome, dtype: float64"
            ]
          },
          "metadata": {},
          "execution_count": 6
        }
      ]
    },
    {
      "cell_type": "code",
      "source": [
        "# [:,:-1]: This part of the code specifies the row and column selection. Here, : is used for selecting all rows, and :-1 is used for selecting all columns except the last one.\n",
        "# In other words, it selects all rows and all columns up to, but not including, the last column in the DataFrame.\n",
        "X = df.iloc[:,:-1].values\n",
        "y = df.iloc[:, -1].values"
      ],
      "metadata": {
        "id": "aGQ1gsMQSSP3"
      },
      "execution_count": 7,
      "outputs": []
    },
    {
      "cell_type": "code",
      "source": [
        "X.shape, y.shape"
      ],
      "metadata": {
        "colab": {
          "base_uri": "https://localhost:8080/"
        },
        "id": "T55oE4QOT41L",
        "outputId": "0cba9c3b-7999-47e1-df5b-fe3a5cd49245"
      },
      "execution_count": 8,
      "outputs": [
        {
          "output_type": "execute_result",
          "data": {
            "text/plain": [
              "((768, 8), (768,))"
            ]
          },
          "metadata": {},
          "execution_count": 8
        }
      ]
    },
    {
      "cell_type": "code",
      "source": [
        "from sklearn.preprocessing import StandardScaler\n",
        "scaler = StandardScaler()"
      ],
      "metadata": {
        "id": "4gKZ_aD1T7CV"
      },
      "execution_count": 9,
      "outputs": []
    },
    {
      "cell_type": "code",
      "source": [
        "# scale from -1 to 1\n",
        "X = scaler.fit_transform(X)"
      ],
      "metadata": {
        "id": "27ZrftVcUcpi"
      },
      "execution_count": 10,
      "outputs": []
    },
    {
      "cell_type": "code",
      "source": [
        "X"
      ],
      "metadata": {
        "colab": {
          "base_uri": "https://localhost:8080/"
        },
        "id": "90xb5qlYVL5u",
        "outputId": "d4d2bd79-2eae-4479-b92d-ad1809757b11"
      },
      "execution_count": 11,
      "outputs": [
        {
          "output_type": "execute_result",
          "data": {
            "text/plain": [
              "array([[ 0.63994726,  0.84832379,  0.14964075, ...,  0.20401277,\n",
              "         0.46849198,  1.4259954 ],\n",
              "       [-0.84488505, -1.12339636, -0.16054575, ..., -0.68442195,\n",
              "        -0.36506078, -0.19067191],\n",
              "       [ 1.23388019,  1.94372388, -0.26394125, ..., -1.10325546,\n",
              "         0.60439732, -0.10558415],\n",
              "       ...,\n",
              "       [ 0.3429808 ,  0.00330087,  0.14964075, ..., -0.73518964,\n",
              "        -0.68519336, -0.27575966],\n",
              "       [-0.84488505,  0.1597866 , -0.47073225, ..., -0.24020459,\n",
              "        -0.37110101,  1.17073215],\n",
              "       [-0.84488505, -0.8730192 ,  0.04624525, ..., -0.20212881,\n",
              "        -0.47378505, -0.87137393]])"
            ]
          },
          "metadata": {},
          "execution_count": 11
        }
      ]
    },
    {
      "cell_type": "code",
      "source": [
        "from sklearn.model_selection import train_test_split\n",
        "X_train, X_test, y_train, y_test = train_test_split(X, y, train_size=0.2, random_state=42)"
      ],
      "metadata": {
        "id": "WfOTfdUoVTp0"
      },
      "execution_count": 12,
      "outputs": []
    },
    {
      "cell_type": "code",
      "source": [
        "X_train, y_train"
      ],
      "metadata": {
        "colab": {
          "base_uri": "https://localhost:8080/"
        },
        "id": "ZFnTBg51evBU",
        "outputId": "e4bae22e-dde9-458d-c47b-f385054691e4"
      },
      "execution_count": 13,
      "outputs": [
        {
          "output_type": "execute_result",
          "data": {
            "text/plain": [
              "(array([[ 1.82781311e+00, -1.43636781e+00,  6.66618252e-01, ...,\n",
              "          1.65936998e-01, -6.30831221e-01,  4.04942367e-01],\n",
              "        [ 9.36913723e-01,  5.04055196e-01,  1.08020025e+00, ...,\n",
              "          9.41978774e-04, -2.44256030e-01,  4.90030120e-01],\n",
              "        [-2.50952128e-01,  1.16129525e+00, -2.63941247e-01, ...,\n",
              "         -1.00593418e-01, -5.34187424e-01, -7.86286177e-01],\n",
              "        ...,\n",
              "        [ 1.82781311e+00, -6.22642036e-01,  8.73409251e-01, ...,\n",
              "          1.72704372e+00,  2.00573238e+00,  4.04942367e-01],\n",
              "        [-1.14185152e+00,  6.29243777e-01, -3.57259724e+00, ...,\n",
              "          1.32090213e+00, -8.05998104e-01, -3.60847411e-01],\n",
              "        [-1.14185152e+00,  1.28489452e-01,  1.39038675e+00, ...,\n",
              "         -1.20479085e+00, -6.33851340e-01, -1.04154944e+00]]),\n",
              " array([0, 0, 0, 1, 0, 0, 0, 1, 0, 1, 1, 0, 0, 1, 1, 0, 0, 1, 0, 0, 0, 0,\n",
              "        0, 0, 1, 1, 0, 1, 0, 0, 1, 1, 0, 1, 1, 0, 0, 1, 1, 0, 0, 0, 0, 0,\n",
              "        1, 1, 0, 1, 0, 0, 1, 1, 1, 0, 0, 0, 1, 1, 0, 0, 1, 1, 0, 0, 0, 0,\n",
              "        1, 1, 0, 1, 0, 0, 0, 1, 0, 1, 0, 0, 0, 0, 1, 0, 0, 0, 0, 0, 1, 0,\n",
              "        0, 0, 0, 1, 0, 1, 0, 1, 0, 0, 0, 1, 0, 0, 1, 0, 0, 1, 1, 1, 1, 0,\n",
              "        1, 0, 0, 0, 1, 0, 0, 1, 1, 0, 0, 1, 0, 0, 0, 0, 0, 1, 0, 0, 0, 0,\n",
              "        0, 1, 1, 1, 1, 1, 0, 0, 1, 0, 1, 0, 0, 1, 0, 0, 0, 0, 1, 1, 0]))"
            ]
          },
          "metadata": {},
          "execution_count": 13
        }
      ]
    },
    {
      "cell_type": "code",
      "source": [
        "import keras_tuner as kt"
      ],
      "metadata": {
        "id": "aMksb0h-Xgok"
      },
      "execution_count": 14,
      "outputs": []
    },
    {
      "cell_type": "markdown",
      "source": [
        "# Hp - no. of units in layers,\n",
        "# Hp - activation functions\n",
        "# Hp - optimizers"
      ],
      "metadata": {
        "id": "5Bm1yF3t3jTa"
      }
    },
    {
      "cell_type": "code",
      "source": [
        "# hp argument to define the hyperparameters during model creation.\n",
        "def build_model(hp):\n",
        "  model = keras.Sequential()\n",
        "\n",
        "  # model.add(keras.layers.Dense(\n",
        "  #     hp.Choice('units', [8, 16, 32]),\n",
        "  #     activation='relu'))\n",
        "\n",
        "  model.add(keras.layers.Dense(\n",
        "      units=hp.Choice('units', [8, 16, 32]),\n",
        "      activation=hp.Choice('activation', ['relu', 'tanh', 'sigmoid']),\n",
        "  ))\n",
        "\n",
        "  model.add(keras.layers.Dense(\n",
        "      units=hp.Choice('units2', [16, 32, 64]),\n",
        "      activation=hp.Choice('activation2', ['relu', 'tanh', 'sigmoid']),\n",
        "  ))\n",
        "\n",
        "  model.add(keras.layers.Dense(1, activation='relu'))\n",
        "\n",
        "  optimizer = hp.Choice('optimizer', values=['adam', 'sgd', 'rmsprop', 'adadelta'])\n",
        "\n",
        "  model.compile(optimizer=optimizer, loss='binary_crossentropy', metrics='accuracy')\n",
        "\n",
        "  return model"
      ],
      "metadata": {
        "id": "VqwJgG3nWQo9"
      },
      "execution_count": 15,
      "outputs": []
    },
    {
      "cell_type": "code",
      "source": [
        "# objective='val_accuracy': This specifies the objective to optimize during the hyperparameter search. In this case, the objective is to maximize the validation accuracy of the model.\n",
        "# The hyperparameter tuning process will try different hyperparameter combinations to find the configuration that produces the best validation accuracy.\n",
        "# max_trials=15: This sets the maximum number of trials (i.e., hyperparameter combinations) to be tested during the random search. In this example, the hyperparameter search will\n",
        "# run a maximum of 15 trials, each with a different set of hyperparameters.\n",
        "tuner = kt.RandomSearch(\n",
        "    build_model,\n",
        "    objective='val_accuracy',\n",
        "    max_trials=15)"
      ],
      "metadata": {
        "id": "-n8t2d3TZusd"
      },
      "execution_count": 16,
      "outputs": []
    },
    {
      "cell_type": "code",
      "source": [
        "tuner.search(X_train, y_train, epochs=5, validation_data=(X_test, y_test))"
      ],
      "metadata": {
        "id": "Awq5DyW-bIh0",
        "colab": {
          "base_uri": "https://localhost:8080/"
        },
        "outputId": "d35b8a83-270f-42ca-8066-75c998bd3ac7"
      },
      "execution_count": 17,
      "outputs": [
        {
          "output_type": "stream",
          "name": "stdout",
          "text": [
            "Trial 15 Complete [00h 00m 02s]\n",
            "val_accuracy: 0.6585366129875183\n",
            "\n",
            "Best val_accuracy So Far: 0.7398374080657959\n",
            "Total elapsed time: 00h 00m 46s\n"
          ]
        }
      ]
    },
    {
      "cell_type": "code",
      "source": [
        "best_model = tuner.get_best_models()[0]"
      ],
      "metadata": {
        "id": "SjxhEPH8ctSN"
      },
      "execution_count": 18,
      "outputs": []
    },
    {
      "cell_type": "code",
      "source": [
        "tuner.results_summary()"
      ],
      "metadata": {
        "id": "cwjmRLskeQ0R",
        "colab": {
          "base_uri": "https://localhost:8080/"
        },
        "outputId": "872311d6-54e8-4a0d-a357-9e9036a4b0de"
      },
      "execution_count": 19,
      "outputs": [
        {
          "output_type": "stream",
          "name": "stdout",
          "text": [
            "Results summary\n",
            "Results in ./untitled_project\n",
            "Showing 10 best trials\n",
            "Objective(name=\"val_accuracy\", direction=\"max\")\n",
            "\n",
            "Trial 10 summary\n",
            "Hyperparameters:\n",
            "units: 8\n",
            "activation: sigmoid\n",
            "units2: 16\n",
            "activation2: relu\n",
            "optimizer: adam\n",
            "Score: 0.7398374080657959\n",
            "\n",
            "Trial 01 summary\n",
            "Hyperparameters:\n",
            "units: 16\n",
            "activation: relu\n",
            "units2: 16\n",
            "activation2: tanh\n",
            "optimizer: adam\n",
            "Score: 0.7154471278190613\n",
            "\n",
            "Trial 00 summary\n",
            "Hyperparameters:\n",
            "units: 16\n",
            "activation: sigmoid\n",
            "units2: 16\n",
            "activation2: relu\n",
            "optimizer: sgd\n",
            "Score: 0.6715447306632996\n",
            "\n",
            "Trial 13 summary\n",
            "Hyperparameters:\n",
            "units: 8\n",
            "activation: relu\n",
            "units2: 32\n",
            "activation2: relu\n",
            "optimizer: adadelta\n",
            "Score: 0.6650406718254089\n",
            "\n",
            "Trial 07 summary\n",
            "Hyperparameters:\n",
            "units: 8\n",
            "activation: tanh\n",
            "units2: 16\n",
            "activation2: relu\n",
            "optimizer: adam\n",
            "Score: 0.6634146571159363\n",
            "\n",
            "Trial 05 summary\n",
            "Hyperparameters:\n",
            "units: 32\n",
            "activation: relu\n",
            "units2: 32\n",
            "activation2: sigmoid\n",
            "optimizer: sgd\n",
            "Score: 0.660162627696991\n",
            "\n",
            "Trial 02 summary\n",
            "Hyperparameters:\n",
            "units: 16\n",
            "activation: sigmoid\n",
            "units2: 32\n",
            "activation2: sigmoid\n",
            "optimizer: rmsprop\n",
            "Score: 0.6585366129875183\n",
            "\n",
            "Trial 03 summary\n",
            "Hyperparameters:\n",
            "units: 8\n",
            "activation: tanh\n",
            "units2: 16\n",
            "activation2: sigmoid\n",
            "optimizer: sgd\n",
            "Score: 0.6585366129875183\n",
            "\n",
            "Trial 12 summary\n",
            "Hyperparameters:\n",
            "units: 32\n",
            "activation: relu\n",
            "units2: 32\n",
            "activation2: sigmoid\n",
            "optimizer: adadelta\n",
            "Score: 0.6585366129875183\n",
            "\n",
            "Trial 14 summary\n",
            "Hyperparameters:\n",
            "units: 16\n",
            "activation: sigmoid\n",
            "units2: 64\n",
            "activation2: relu\n",
            "optimizer: adadelta\n",
            "Score: 0.6585366129875183\n"
          ]
        }
      ]
    },
    {
      "cell_type": "code",
      "source": [
        "# !rm -r /content/untitled_project"
      ],
      "metadata": {
        "id": "aNHP5sS_eTCY"
      },
      "execution_count": 20,
      "outputs": []
    },
    {
      "cell_type": "code",
      "source": [
        "def build_model(hp):\n",
        "  model = keras.Sequential()\n",
        "\n",
        "  units = hp.Int('units', min_value=8, max_value=128, step=8)\n",
        "\n",
        "  model.add(keras.layers.Dense(\n",
        "      units=units,\n",
        "      activation=hp.Choice('activation', ['relu', 'tanh', 'sigmoid']),\n",
        "  ))\n",
        "\n",
        "  model.add(keras.layers.Dense(1, activation='relu'))\n",
        "\n",
        "  optimizer = hp.Choice('optimizer', values=['adam', 'sgd', 'rmsprop', 'adadelta'])\n",
        "\n",
        "  model.compile(optimizer=optimizer, loss='binary_crossentropy', metrics='accuracy')\n",
        "\n",
        "  return model"
      ],
      "metadata": {
        "id": "XGPWxlRalsKn"
      },
      "execution_count": 30,
      "outputs": []
    },
    {
      "cell_type": "code",
      "source": [
        "tuner = kt.RandomSearch(\n",
        "    build_model,\n",
        "    objective='val_accuracy',\n",
        "    max_trials=15,\n",
        "    directory='dir',\n",
        "    project_name='hp_2')"
      ],
      "metadata": {
        "id": "P1PgwfLAx8AU"
      },
      "execution_count": 31,
      "outputs": []
    },
    {
      "cell_type": "code",
      "source": [
        "tuner.search(X_train, y_train, epochs=5, validation_data=(X_test, y_test))"
      ],
      "metadata": {
        "colab": {
          "base_uri": "https://localhost:8080/"
        },
        "id": "-OjFOFJyyFB3",
        "outputId": "88f52a8e-7596-45a5-f919-d8066c9bfab3"
      },
      "execution_count": 32,
      "outputs": [
        {
          "output_type": "stream",
          "name": "stdout",
          "text": [
            "Trial 15 Complete [00h 00m 02s]\n",
            "val_accuracy: 0.7284553050994873\n",
            "\n",
            "Best val_accuracy So Far: 0.7560975551605225\n",
            "Total elapsed time: 00h 00m 34s\n"
          ]
        }
      ]
    },
    {
      "cell_type": "code",
      "source": [
        "best_model = tuner.get_best_models()[0]"
      ],
      "metadata": {
        "colab": {
          "base_uri": "https://localhost:8080/"
        },
        "id": "NEucQnCSyGfR",
        "outputId": "15357d01-c365-49e9-fc9e-63fac3d1937e"
      },
      "execution_count": 33,
      "outputs": [
        {
          "output_type": "stream",
          "name": "stderr",
          "text": [
            "WARNING:tensorflow:Detecting that an object or model or tf.train.Checkpoint is being deleted with unrestored values. See the following logs for the specific values in question. To silence these warnings, use `status.expect_partial()`. See https://www.tensorflow.org/api_docs/python/tf/train/Checkpoint#restorefor details about the status object returned by the restore function.\n",
            "WARNING:tensorflow:Value in checkpoint could not be found in the restored object: (root).layer_with_weights-0.kernel\n",
            "WARNING:tensorflow:Value in checkpoint could not be found in the restored object: (root).layer_with_weights-0.bias\n",
            "WARNING:tensorflow:Value in checkpoint could not be found in the restored object: (root).layer_with_weights-1.kernel\n",
            "WARNING:tensorflow:Value in checkpoint could not be found in the restored object: (root).layer_with_weights-1.bias\n",
            "WARNING:tensorflow:Value in checkpoint could not be found in the restored object: (root).optimizer._variables.1\n",
            "WARNING:tensorflow:Value in checkpoint could not be found in the restored object: (root).optimizer._variables.2\n",
            "WARNING:tensorflow:Value in checkpoint could not be found in the restored object: (root).optimizer._variables.3\n",
            "WARNING:tensorflow:Value in checkpoint could not be found in the restored object: (root).optimizer._variables.4\n"
          ]
        }
      ]
    },
    {
      "cell_type": "code",
      "source": [
        "tuner.results_summary()"
      ],
      "metadata": {
        "colab": {
          "base_uri": "https://localhost:8080/"
        },
        "id": "Bxq3W_YayHAy",
        "outputId": "6a7e706b-4a5a-4240-dfd5-578f0818c942"
      },
      "execution_count": 34,
      "outputs": [
        {
          "output_type": "stream",
          "name": "stdout",
          "text": [
            "Results summary\n",
            "Results in dir/hp_2\n",
            "Showing 10 best trials\n",
            "Objective(name=\"val_accuracy\", direction=\"max\")\n",
            "\n",
            "Trial 13 summary\n",
            "Hyperparameters:\n",
            "units: 8\n",
            "activation: tanh\n",
            "optimizer: sgd\n",
            "Score: 0.7560975551605225\n",
            "\n",
            "Trial 04 summary\n",
            "Hyperparameters:\n",
            "units: 64\n",
            "activation: tanh\n",
            "optimizer: rmsprop\n",
            "Score: 0.7544715404510498\n",
            "\n",
            "Trial 11 summary\n",
            "Hyperparameters:\n",
            "units: 104\n",
            "activation: tanh\n",
            "optimizer: sgd\n",
            "Score: 0.7430894374847412\n",
            "\n",
            "Trial 14 summary\n",
            "Hyperparameters:\n",
            "units: 96\n",
            "activation: tanh\n",
            "optimizer: rmsprop\n",
            "Score: 0.7284553050994873\n",
            "\n",
            "Trial 00 summary\n",
            "Hyperparameters:\n",
            "units: 56\n",
            "activation: tanh\n",
            "optimizer: sgd\n",
            "Score: 0.707317054271698\n",
            "\n",
            "Trial 01 summary\n",
            "Hyperparameters:\n",
            "units: 104\n",
            "activation: tanh\n",
            "optimizer: rmsprop\n",
            "Score: 0.6926829218864441\n",
            "\n",
            "Trial 06 summary\n",
            "Hyperparameters:\n",
            "units: 32\n",
            "activation: relu\n",
            "optimizer: sgd\n",
            "Score: 0.6796748042106628\n",
            "\n",
            "Trial 02 summary\n",
            "Hyperparameters:\n",
            "units: 24\n",
            "activation: tanh\n",
            "optimizer: sgd\n",
            "Score: 0.6780487895011902\n",
            "\n",
            "Trial 07 summary\n",
            "Hyperparameters:\n",
            "units: 24\n",
            "activation: relu\n",
            "optimizer: adam\n",
            "Score: 0.660162627696991\n",
            "\n",
            "Trial 05 summary\n",
            "Hyperparameters:\n",
            "units: 16\n",
            "activation: sigmoid\n",
            "optimizer: sgd\n",
            "Score: 0.6585366129875183\n"
          ]
        }
      ]
    },
    {
      "cell_type": "code",
      "source": [
        "tuner.get_best_hyperparameters()[0].values"
      ],
      "metadata": {
        "colab": {
          "base_uri": "https://localhost:8080/"
        },
        "id": "6P9UndQGzE_g",
        "outputId": "e35f0f0c-47c3-4b78-e9da-008e9e19c604"
      },
      "execution_count": 35,
      "outputs": [
        {
          "output_type": "execute_result",
          "data": {
            "text/plain": [
              "{'units': 8, 'activation': 'tanh', 'optimizer': 'sgd'}"
            ]
          },
          "metadata": {},
          "execution_count": 35
        }
      ]
    },
    {
      "cell_type": "code",
      "source": [
        "model = tuner.get_best_models(num_models=1)[0]"
      ],
      "metadata": {
        "id": "dogbPOJS01D_"
      },
      "execution_count": 38,
      "outputs": []
    },
    {
      "cell_type": "code",
      "source": [
        "model.fit(X_train, y_train, batch_size=32, epochs=100, initial_epoch=6)"
      ],
      "metadata": {
        "colab": {
          "base_uri": "https://localhost:8080/"
        },
        "id": "7_bHJAYE13mt",
        "outputId": "778398b3-1cd8-41f4-e4a5-b2d6a449cfa4"
      },
      "execution_count": 39,
      "outputs": [
        {
          "output_type": "stream",
          "name": "stdout",
          "text": [
            "Epoch 7/100\n",
            "5/5 [==============================] - 1s 10ms/step - loss: 1.4971 - accuracy: 0.7320\n",
            "Epoch 8/100\n",
            "5/5 [==============================] - 0s 6ms/step - loss: 1.4767 - accuracy: 0.7386\n",
            "Epoch 9/100\n",
            "5/5 [==============================] - 0s 6ms/step - loss: 1.1526 - accuracy: 0.7320\n",
            "Epoch 10/100\n",
            "5/5 [==============================] - 0s 6ms/step - loss: 1.0102 - accuracy: 0.7320\n",
            "Epoch 11/100\n",
            "5/5 [==============================] - 0s 6ms/step - loss: 0.9998 - accuracy: 0.7190\n",
            "Epoch 12/100\n",
            "5/5 [==============================] - 0s 5ms/step - loss: 0.9948 - accuracy: 0.7190\n",
            "Epoch 13/100\n",
            "5/5 [==============================] - 0s 4ms/step - loss: 0.9917 - accuracy: 0.7190\n",
            "Epoch 14/100\n",
            "5/5 [==============================] - 0s 4ms/step - loss: 0.9888 - accuracy: 0.7124\n",
            "Epoch 15/100\n",
            "5/5 [==============================] - 0s 4ms/step - loss: 0.9898 - accuracy: 0.7124\n",
            "Epoch 16/100\n",
            "5/5 [==============================] - 0s 5ms/step - loss: 0.9880 - accuracy: 0.7124\n",
            "Epoch 17/100\n",
            "5/5 [==============================] - 0s 4ms/step - loss: 1.6153 - accuracy: 0.6536\n",
            "Epoch 18/100\n",
            "5/5 [==============================] - 0s 4ms/step - loss: 4.0771 - accuracy: 0.5033\n",
            "Epoch 19/100\n",
            "5/5 [==============================] - 0s 7ms/step - loss: 3.7199 - accuracy: 0.5621\n",
            "Epoch 20/100\n",
            "5/5 [==============================] - 0s 6ms/step - loss: 3.2877 - accuracy: 0.5948\n",
            "Epoch 21/100\n",
            "5/5 [==============================] - 0s 4ms/step - loss: 3.0495 - accuracy: 0.6275\n",
            "Epoch 22/100\n",
            "5/5 [==============================] - 0s 4ms/step - loss: 3.0097 - accuracy: 0.6471\n",
            "Epoch 23/100\n",
            "5/5 [==============================] - 0s 4ms/step - loss: 2.8429 - accuracy: 0.6601\n",
            "Epoch 24/100\n",
            "5/5 [==============================] - 0s 4ms/step - loss: 3.1527 - accuracy: 0.5948\n",
            "Epoch 25/100\n",
            "5/5 [==============================] - 0s 4ms/step - loss: 3.5372 - accuracy: 0.5556\n",
            "Epoch 26/100\n",
            "5/5 [==============================] - 0s 4ms/step - loss: 3.6066 - accuracy: 0.5948\n",
            "Epoch 27/100\n",
            "5/5 [==============================] - 0s 4ms/step - loss: 2.5918 - accuracy: 0.6667\n",
            "Epoch 28/100\n",
            "5/5 [==============================] - 0s 5ms/step - loss: 3.5518 - accuracy: 0.5621\n",
            "Epoch 29/100\n",
            "5/5 [==============================] - 0s 4ms/step - loss: 3.8128 - accuracy: 0.5752\n",
            "Epoch 30/100\n",
            "5/5 [==============================] - 0s 4ms/step - loss: 3.6857 - accuracy: 0.6013\n",
            "Epoch 31/100\n",
            "5/5 [==============================] - 0s 4ms/step - loss: 3.4895 - accuracy: 0.6275\n",
            "Epoch 32/100\n",
            "5/5 [==============================] - 0s 3ms/step - loss: 3.2746 - accuracy: 0.6536\n",
            "Epoch 33/100\n",
            "5/5 [==============================] - 0s 4ms/step - loss: 3.2524 - accuracy: 0.6601\n",
            "Epoch 34/100\n",
            "5/5 [==============================] - 0s 4ms/step - loss: 3.1506 - accuracy: 0.6471\n",
            "Epoch 35/100\n",
            "5/5 [==============================] - 0s 4ms/step - loss: 2.7404 - accuracy: 0.6797\n",
            "Epoch 36/100\n",
            "5/5 [==============================] - 0s 5ms/step - loss: 2.2943 - accuracy: 0.6601\n",
            "Epoch 37/100\n",
            "5/5 [==============================] - 0s 4ms/step - loss: 2.0657 - accuracy: 0.6993\n",
            "Epoch 38/100\n",
            "5/5 [==============================] - 0s 5ms/step - loss: 1.9336 - accuracy: 0.7190\n",
            "Epoch 39/100\n",
            "5/5 [==============================] - 0s 4ms/step - loss: 1.8419 - accuracy: 0.7386\n",
            "Epoch 40/100\n",
            "5/5 [==============================] - 0s 4ms/step - loss: 1.6426 - accuracy: 0.7386\n",
            "Epoch 41/100\n",
            "5/5 [==============================] - 0s 4ms/step - loss: 1.4678 - accuracy: 0.7582\n",
            "Epoch 42/100\n",
            "5/5 [==============================] - 0s 3ms/step - loss: 1.3695 - accuracy: 0.7516\n",
            "Epoch 43/100\n",
            "5/5 [==============================] - 0s 5ms/step - loss: 1.1975 - accuracy: 0.7516\n",
            "Epoch 44/100\n",
            "5/5 [==============================] - 0s 3ms/step - loss: 1.1698 - accuracy: 0.7712\n",
            "Epoch 45/100\n",
            "5/5 [==============================] - 0s 4ms/step - loss: 1.1632 - accuracy: 0.7712\n",
            "Epoch 46/100\n",
            "5/5 [==============================] - 0s 4ms/step - loss: 1.1589 - accuracy: 0.7582\n",
            "Epoch 47/100\n",
            "5/5 [==============================] - 0s 6ms/step - loss: 1.1533 - accuracy: 0.7647\n",
            "Epoch 48/100\n",
            "5/5 [==============================] - 0s 5ms/step - loss: 1.1516 - accuracy: 0.7647\n",
            "Epoch 49/100\n",
            "5/5 [==============================] - 0s 5ms/step - loss: 1.1503 - accuracy: 0.7712\n",
            "Epoch 50/100\n",
            "5/5 [==============================] - 0s 7ms/step - loss: 1.1466 - accuracy: 0.7843\n",
            "Epoch 51/100\n",
            "5/5 [==============================] - 0s 6ms/step - loss: 1.1458 - accuracy: 0.7712\n",
            "Epoch 52/100\n",
            "5/5 [==============================] - 0s 5ms/step - loss: 1.1426 - accuracy: 0.7712\n",
            "Epoch 53/100\n",
            "5/5 [==============================] - 0s 8ms/step - loss: 1.1422 - accuracy: 0.7712\n",
            "Epoch 54/100\n",
            "5/5 [==============================] - 0s 6ms/step - loss: 1.1415 - accuracy: 0.7778\n",
            "Epoch 55/100\n",
            "5/5 [==============================] - 0s 5ms/step - loss: 0.9122 - accuracy: 0.7647\n",
            "Epoch 56/100\n",
            "5/5 [==============================] - 0s 5ms/step - loss: 0.7032 - accuracy: 0.7516\n",
            "Epoch 57/100\n",
            "5/5 [==============================] - 0s 6ms/step - loss: 2.1464 - accuracy: 0.6797\n",
            "Epoch 58/100\n",
            "5/5 [==============================] - 0s 7ms/step - loss: 5.0306 - accuracy: 0.6078\n",
            "Epoch 59/100\n",
            "5/5 [==============================] - 0s 6ms/step - loss: 5.0128 - accuracy: 0.6078\n",
            "Epoch 60/100\n",
            "5/5 [==============================] - 0s 6ms/step - loss: 5.0013 - accuracy: 0.6144\n",
            "Epoch 61/100\n",
            "5/5 [==============================] - 0s 5ms/step - loss: 4.9915 - accuracy: 0.6144\n",
            "Epoch 62/100\n",
            "5/5 [==============================] - 0s 5ms/step - loss: 4.9832 - accuracy: 0.6144\n",
            "Epoch 63/100\n",
            "5/5 [==============================] - 0s 6ms/step - loss: 4.9778 - accuracy: 0.6209\n",
            "Epoch 64/100\n",
            "5/5 [==============================] - 0s 7ms/step - loss: 4.9713 - accuracy: 0.6275\n",
            "Epoch 65/100\n",
            "5/5 [==============================] - 0s 5ms/step - loss: 4.9678 - accuracy: 0.6275\n",
            "Epoch 66/100\n",
            "5/5 [==============================] - 0s 6ms/step - loss: 4.4024 - accuracy: 0.6405\n",
            "Epoch 67/100\n",
            "5/5 [==============================] - 0s 11ms/step - loss: 3.6576 - accuracy: 0.6340\n",
            "Epoch 68/100\n",
            "5/5 [==============================] - 0s 10ms/step - loss: 3.1362 - accuracy: 0.6405\n",
            "Epoch 69/100\n",
            "5/5 [==============================] - 0s 7ms/step - loss: 1.1504 - accuracy: 0.7320\n",
            "Epoch 70/100\n",
            "5/5 [==============================] - 0s 8ms/step - loss: 0.9310 - accuracy: 0.7712\n",
            "Epoch 71/100\n",
            "5/5 [==============================] - 0s 10ms/step - loss: 0.8264 - accuracy: 0.7712\n",
            "Epoch 72/100\n",
            "5/5 [==============================] - 0s 7ms/step - loss: 0.8098 - accuracy: 0.7778\n",
            "Epoch 73/100\n",
            "5/5 [==============================] - 0s 7ms/step - loss: 0.8021 - accuracy: 0.7843\n",
            "Epoch 74/100\n",
            "5/5 [==============================] - 0s 6ms/step - loss: 0.7330 - accuracy: 0.7908\n",
            "Epoch 75/100\n",
            "5/5 [==============================] - 0s 5ms/step - loss: 0.7089 - accuracy: 0.7908\n",
            "Epoch 76/100\n",
            "5/5 [==============================] - 0s 7ms/step - loss: 0.7082 - accuracy: 0.7908\n",
            "Epoch 77/100\n",
            "5/5 [==============================] - 0s 7ms/step - loss: 0.7051 - accuracy: 0.7908\n",
            "Epoch 78/100\n",
            "5/5 [==============================] - 0s 11ms/step - loss: 0.7042 - accuracy: 0.7908\n",
            "Epoch 79/100\n",
            "5/5 [==============================] - 0s 11ms/step - loss: 0.7026 - accuracy: 0.7843\n",
            "Epoch 80/100\n",
            "5/5 [==============================] - 0s 8ms/step - loss: 0.7003 - accuracy: 0.7843\n",
            "Epoch 81/100\n",
            "5/5 [==============================] - 0s 8ms/step - loss: 0.7006 - accuracy: 0.7778\n",
            "Epoch 82/100\n",
            "5/5 [==============================] - 0s 6ms/step - loss: 0.7003 - accuracy: 0.7712\n",
            "Epoch 83/100\n",
            "5/5 [==============================] - 0s 7ms/step - loss: 0.6987 - accuracy: 0.7843\n",
            "Epoch 84/100\n",
            "5/5 [==============================] - 0s 7ms/step - loss: 0.6996 - accuracy: 0.7712\n",
            "Epoch 85/100\n",
            "5/5 [==============================] - 0s 5ms/step - loss: 0.6992 - accuracy: 0.7843\n",
            "Epoch 86/100\n",
            "5/5 [==============================] - 0s 5ms/step - loss: 0.6974 - accuracy: 0.7843\n",
            "Epoch 87/100\n",
            "5/5 [==============================] - 0s 5ms/step - loss: 0.6982 - accuracy: 0.7843\n",
            "Epoch 88/100\n",
            "5/5 [==============================] - 0s 5ms/step - loss: 0.6961 - accuracy: 0.7908\n",
            "Epoch 89/100\n",
            "5/5 [==============================] - 0s 4ms/step - loss: 0.6979 - accuracy: 0.7778\n",
            "Epoch 90/100\n",
            "5/5 [==============================] - 0s 5ms/step - loss: 0.6966 - accuracy: 0.7843\n",
            "Epoch 91/100\n",
            "5/5 [==============================] - 0s 5ms/step - loss: 0.6958 - accuracy: 0.7778\n",
            "Epoch 92/100\n",
            "5/5 [==============================] - 0s 6ms/step - loss: 0.6946 - accuracy: 0.7712\n",
            "Epoch 93/100\n",
            "5/5 [==============================] - 0s 4ms/step - loss: 0.6945 - accuracy: 0.7843\n",
            "Epoch 94/100\n",
            "5/5 [==============================] - 0s 5ms/step - loss: 0.6950 - accuracy: 0.7712\n",
            "Epoch 95/100\n",
            "5/5 [==============================] - 0s 5ms/step - loss: 0.6941 - accuracy: 0.7843\n",
            "Epoch 96/100\n",
            "5/5 [==============================] - 0s 5ms/step - loss: 0.6938 - accuracy: 0.7843\n",
            "Epoch 97/100\n",
            "5/5 [==============================] - 0s 5ms/step - loss: 0.6931 - accuracy: 0.7778\n",
            "Epoch 98/100\n",
            "5/5 [==============================] - 0s 6ms/step - loss: 0.6932 - accuracy: 0.7778\n",
            "Epoch 99/100\n",
            "5/5 [==============================] - 0s 5ms/step - loss: 0.6936 - accuracy: 0.7778\n",
            "Epoch 100/100\n",
            "5/5 [==============================] - 0s 5ms/step - loss: 0.6933 - accuracy: 0.7778\n"
          ]
        },
        {
          "output_type": "execute_result",
          "data": {
            "text/plain": [
              "<keras.src.callbacks.History at 0x7e9ac1511d50>"
            ]
          },
          "metadata": {},
          "execution_count": 39
        }
      ]
    },
    {
      "cell_type": "markdown",
      "source": [
        "# Hp - no of layers"
      ],
      "metadata": {
        "id": "CP1eftEo4Iga"
      }
    },
    {
      "cell_type": "code",
      "source": [
        "def build_model(hp):\n",
        "  model = keras.Sequential()\n",
        "\n",
        "  model.add(keras.layers.Dense(72, activation='relu'))\n",
        "\n",
        "  for i in range(hp.Int('no of layers', min_value=1, max_value=10)):\n",
        "    model.add(keras.layers.Dense(72, activation='relu'))\n",
        "\n",
        "  model.add(keras.layers.Dense(1, activation='sigmoid'))\n",
        "\n",
        "  model.compile(optimizer='adam', loss='binary_crossentropy', metrics='accuracy')\n",
        "\n",
        "  return model"
      ],
      "metadata": {
        "id": "6I5_6Q9V4XN2"
      },
      "execution_count": 40,
      "outputs": []
    },
    {
      "cell_type": "code",
      "source": [
        "tuner = kt.RandomSearch(\n",
        "    build_model,\n",
        "    objective='val_accuracy',\n",
        "    max_trials=3,\n",
        "    directory='dir',\n",
        "    project_name='hp_3')"
      ],
      "metadata": {
        "id": "GJrAjuY34YUL"
      },
      "execution_count": 41,
      "outputs": []
    },
    {
      "cell_type": "code",
      "source": [
        "tuner.search(X_train, y_train, epochs=5, validation_data=(X_test, y_test))"
      ],
      "metadata": {
        "colab": {
          "base_uri": "https://localhost:8080/"
        },
        "id": "JJhYrV6n4ZDc",
        "outputId": "14f2bc78-cf2e-4348-9e7c-537714a88afa"
      },
      "execution_count": 42,
      "outputs": [
        {
          "output_type": "stream",
          "name": "stdout",
          "text": [
            "Trial 3 Complete [00h 00m 04s]\n",
            "val_accuracy: 0.7821138501167297\n",
            "\n",
            "Best val_accuracy So Far: 0.7821138501167297\n",
            "Total elapsed time: 00h 00m 15s\n"
          ]
        }
      ]
    },
    {
      "cell_type": "code",
      "source": [
        "best_model = tuner.get_best_models()[0]"
      ],
      "metadata": {
        "colab": {
          "base_uri": "https://localhost:8080/"
        },
        "id": "_SZUG6tW7Q4u",
        "outputId": "fab68b4e-35b2-417e-aad9-19cc53f29be2"
      },
      "execution_count": 44,
      "outputs": [
        {
          "output_type": "stream",
          "name": "stderr",
          "text": [
            "WARNING:tensorflow:Detecting that an object or model or tf.train.Checkpoint is being deleted with unrestored values. See the following logs for the specific values in question. To silence these warnings, use `status.expect_partial()`. See https://www.tensorflow.org/api_docs/python/tf/train/Checkpoint#restorefor details about the status object returned by the restore function.\n",
            "WARNING:tensorflow:Value in checkpoint could not be found in the restored object: (root).layer_with_weights-0.kernel\n",
            "WARNING:tensorflow:Value in checkpoint could not be found in the restored object: (root).layer_with_weights-0.bias\n",
            "WARNING:tensorflow:Value in checkpoint could not be found in the restored object: (root).layer_with_weights-1.kernel\n",
            "WARNING:tensorflow:Value in checkpoint could not be found in the restored object: (root).layer_with_weights-1.bias\n",
            "WARNING:tensorflow:Value in checkpoint could not be found in the restored object: (root).layer_with_weights-2.kernel\n",
            "WARNING:tensorflow:Value in checkpoint could not be found in the restored object: (root).layer_with_weights-2.bias\n",
            "WARNING:tensorflow:Value in checkpoint could not be found in the restored object: (root).layer_with_weights-3.kernel\n",
            "WARNING:tensorflow:Value in checkpoint could not be found in the restored object: (root).layer_with_weights-3.bias\n",
            "WARNING:tensorflow:Value in checkpoint could not be found in the restored object: (root).optimizer._variables.1\n",
            "WARNING:tensorflow:Value in checkpoint could not be found in the restored object: (root).optimizer._variables.2\n",
            "WARNING:tensorflow:Value in checkpoint could not be found in the restored object: (root).optimizer._variables.3\n",
            "WARNING:tensorflow:Value in checkpoint could not be found in the restored object: (root).optimizer._variables.4\n",
            "WARNING:tensorflow:Value in checkpoint could not be found in the restored object: (root).optimizer._variables.5\n",
            "WARNING:tensorflow:Value in checkpoint could not be found in the restored object: (root).optimizer._variables.6\n",
            "WARNING:tensorflow:Value in checkpoint could not be found in the restored object: (root).optimizer._variables.7\n",
            "WARNING:tensorflow:Value in checkpoint could not be found in the restored object: (root).optimizer._variables.8\n",
            "WARNING:tensorflow:Value in checkpoint could not be found in the restored object: (root).optimizer._variables.9\n",
            "WARNING:tensorflow:Value in checkpoint could not be found in the restored object: (root).optimizer._variables.10\n",
            "WARNING:tensorflow:Value in checkpoint could not be found in the restored object: (root).optimizer._variables.11\n",
            "WARNING:tensorflow:Value in checkpoint could not be found in the restored object: (root).optimizer._variables.12\n",
            "WARNING:tensorflow:Value in checkpoint could not be found in the restored object: (root).optimizer._variables.13\n",
            "WARNING:tensorflow:Value in checkpoint could not be found in the restored object: (root).optimizer._variables.14\n",
            "WARNING:tensorflow:Value in checkpoint could not be found in the restored object: (root).optimizer._variables.15\n",
            "WARNING:tensorflow:Value in checkpoint could not be found in the restored object: (root).optimizer._variables.16\n"
          ]
        }
      ]
    },
    {
      "cell_type": "code",
      "source": [
        "tuner.get_best_hyperparameters()[0].values"
      ],
      "metadata": {
        "colab": {
          "base_uri": "https://localhost:8080/"
        },
        "id": "ANHyGedu7kk5",
        "outputId": "67d936a6-fad1-4c63-9ff4-866d2bb75326"
      },
      "execution_count": 45,
      "outputs": [
        {
          "output_type": "execute_result",
          "data": {
            "text/plain": [
              "{'no of layers': 2}"
            ]
          },
          "metadata": {},
          "execution_count": 45
        }
      ]
    },
    {
      "cell_type": "code",
      "source": [
        "tuner.results_summary()"
      ],
      "metadata": {
        "colab": {
          "base_uri": "https://localhost:8080/"
        },
        "id": "zBM_xTqw7ppc",
        "outputId": "13177ca8-db0c-4622-f01b-4e89036ebaa1"
      },
      "execution_count": 46,
      "outputs": [
        {
          "output_type": "stream",
          "name": "stdout",
          "text": [
            "Results summary\n",
            "Results in dir/hp_3\n",
            "Showing 10 best trials\n",
            "Objective(name=\"val_accuracy\", direction=\"max\")\n",
            "\n",
            "Trial 2 summary\n",
            "Hyperparameters:\n",
            "no of layers: 2\n",
            "Score: 0.7821138501167297\n",
            "\n",
            "Trial 0 summary\n",
            "Hyperparameters:\n",
            "no of layers: 1\n",
            "Score: 0.7528455257415771\n",
            "\n",
            "Trial 1 summary\n",
            "Hyperparameters:\n",
            "no of layers: 8\n",
            "Score: 0.7528455257415771\n"
          ]
        }
      ]
    },
    {
      "cell_type": "code",
      "source": [
        "model = tuner.get_best_models(num_models=1)[0]\n",
        "model.fit(X_train, y_train, epochs=100, initial_epoch=6, validation_data=(X_test, y_test))"
      ],
      "metadata": {
        "colab": {
          "base_uri": "https://localhost:8080/"
        },
        "id": "wD1FFur07wmf",
        "outputId": "edb0e8a8-3ee3-4e40-94ac-bfc43da67c56"
      },
      "execution_count": 47,
      "outputs": [
        {
          "output_type": "stream",
          "name": "stdout",
          "text": [
            "Epoch 7/100\n",
            "5/5 [==============================] - 1s 73ms/step - loss: 0.5022 - accuracy: 0.7908 - val_loss: 0.4957 - val_accuracy: 0.7772\n",
            "Epoch 8/100\n",
            "5/5 [==============================] - 0s 27ms/step - loss: 0.4750 - accuracy: 0.7908 - val_loss: 0.4841 - val_accuracy: 0.7756\n",
            "Epoch 9/100\n",
            "5/5 [==============================] - 0s 20ms/step - loss: 0.4504 - accuracy: 0.7974 - val_loss: 0.4746 - val_accuracy: 0.7772\n",
            "Epoch 10/100\n",
            "5/5 [==============================] - 0s 25ms/step - loss: 0.4334 - accuracy: 0.7843 - val_loss: 0.4735 - val_accuracy: 0.7756\n",
            "Epoch 11/100\n",
            "5/5 [==============================] - 0s 20ms/step - loss: 0.4189 - accuracy: 0.7843 - val_loss: 0.4741 - val_accuracy: 0.7772\n",
            "Epoch 12/100\n",
            "5/5 [==============================] - 0s 19ms/step - loss: 0.4049 - accuracy: 0.8039 - val_loss: 0.4796 - val_accuracy: 0.7724\n",
            "Epoch 13/100\n",
            "5/5 [==============================] - 0s 20ms/step - loss: 0.3929 - accuracy: 0.8039 - val_loss: 0.4856 - val_accuracy: 0.7691\n",
            "Epoch 14/100\n",
            "5/5 [==============================] - 0s 26ms/step - loss: 0.3817 - accuracy: 0.8039 - val_loss: 0.4891 - val_accuracy: 0.7707\n",
            "Epoch 15/100\n",
            "5/5 [==============================] - 0s 20ms/step - loss: 0.3710 - accuracy: 0.8105 - val_loss: 0.4923 - val_accuracy: 0.7691\n",
            "Epoch 16/100\n",
            "5/5 [==============================] - 0s 28ms/step - loss: 0.3607 - accuracy: 0.8039 - val_loss: 0.4992 - val_accuracy: 0.7642\n",
            "Epoch 17/100\n",
            "5/5 [==============================] - 0s 27ms/step - loss: 0.3527 - accuracy: 0.8105 - val_loss: 0.5022 - val_accuracy: 0.7577\n",
            "Epoch 18/100\n",
            "5/5 [==============================] - 0s 26ms/step - loss: 0.3436 - accuracy: 0.8105 - val_loss: 0.5104 - val_accuracy: 0.7496\n",
            "Epoch 19/100\n",
            "5/5 [==============================] - 0s 27ms/step - loss: 0.3338 - accuracy: 0.8235 - val_loss: 0.5208 - val_accuracy: 0.7480\n",
            "Epoch 20/100\n",
            "5/5 [==============================] - 0s 23ms/step - loss: 0.3257 - accuracy: 0.8366 - val_loss: 0.5271 - val_accuracy: 0.7463\n",
            "Epoch 21/100\n",
            "5/5 [==============================] - 0s 22ms/step - loss: 0.3157 - accuracy: 0.8431 - val_loss: 0.5259 - val_accuracy: 0.7577\n",
            "Epoch 22/100\n",
            "5/5 [==============================] - 0s 18ms/step - loss: 0.3071 - accuracy: 0.8431 - val_loss: 0.5368 - val_accuracy: 0.7496\n",
            "Epoch 23/100\n",
            "5/5 [==============================] - 0s 27ms/step - loss: 0.2973 - accuracy: 0.8627 - val_loss: 0.5482 - val_accuracy: 0.7463\n",
            "Epoch 24/100\n",
            "5/5 [==============================] - 0s 26ms/step - loss: 0.2890 - accuracy: 0.8693 - val_loss: 0.5559 - val_accuracy: 0.7480\n",
            "Epoch 25/100\n",
            "5/5 [==============================] - 0s 26ms/step - loss: 0.2807 - accuracy: 0.8627 - val_loss: 0.5573 - val_accuracy: 0.7463\n",
            "Epoch 26/100\n",
            "5/5 [==============================] - 0s 17ms/step - loss: 0.2727 - accuracy: 0.8824 - val_loss: 0.5645 - val_accuracy: 0.7496\n",
            "Epoch 27/100\n",
            "5/5 [==============================] - 0s 27ms/step - loss: 0.2643 - accuracy: 0.8954 - val_loss: 0.5747 - val_accuracy: 0.7528\n",
            "Epoch 28/100\n",
            "5/5 [==============================] - 0s 25ms/step - loss: 0.2592 - accuracy: 0.8824 - val_loss: 0.5895 - val_accuracy: 0.7496\n",
            "Epoch 29/100\n",
            "5/5 [==============================] - 0s 16ms/step - loss: 0.2517 - accuracy: 0.8954 - val_loss: 0.5807 - val_accuracy: 0.7512\n",
            "Epoch 30/100\n",
            "5/5 [==============================] - 0s 26ms/step - loss: 0.2448 - accuracy: 0.8889 - val_loss: 0.6013 - val_accuracy: 0.7431\n",
            "Epoch 31/100\n",
            "5/5 [==============================] - 0s 16ms/step - loss: 0.2360 - accuracy: 0.9085 - val_loss: 0.6090 - val_accuracy: 0.7480\n",
            "Epoch 32/100\n",
            "5/5 [==============================] - 0s 26ms/step - loss: 0.2318 - accuracy: 0.8954 - val_loss: 0.6043 - val_accuracy: 0.7496\n",
            "Epoch 33/100\n",
            "5/5 [==============================] - 0s 25ms/step - loss: 0.2214 - accuracy: 0.9085 - val_loss: 0.6274 - val_accuracy: 0.7480\n",
            "Epoch 34/100\n",
            "5/5 [==============================] - 0s 16ms/step - loss: 0.2120 - accuracy: 0.9085 - val_loss: 0.6306 - val_accuracy: 0.7480\n",
            "Epoch 35/100\n",
            "5/5 [==============================] - 0s 24ms/step - loss: 0.2070 - accuracy: 0.9216 - val_loss: 0.6378 - val_accuracy: 0.7496\n",
            "Epoch 36/100\n",
            "5/5 [==============================] - 0s 18ms/step - loss: 0.1970 - accuracy: 0.9216 - val_loss: 0.6594 - val_accuracy: 0.7496\n",
            "Epoch 37/100\n",
            "5/5 [==============================] - 0s 17ms/step - loss: 0.1910 - accuracy: 0.9281 - val_loss: 0.6598 - val_accuracy: 0.7528\n",
            "Epoch 38/100\n",
            "5/5 [==============================] - 0s 24ms/step - loss: 0.1834 - accuracy: 0.9412 - val_loss: 0.6640 - val_accuracy: 0.7545\n",
            "Epoch 39/100\n",
            "5/5 [==============================] - 0s 16ms/step - loss: 0.1772 - accuracy: 0.9412 - val_loss: 0.6727 - val_accuracy: 0.7528\n",
            "Epoch 40/100\n",
            "5/5 [==============================] - 0s 17ms/step - loss: 0.1692 - accuracy: 0.9412 - val_loss: 0.6918 - val_accuracy: 0.7480\n",
            "Epoch 41/100\n",
            "5/5 [==============================] - 0s 25ms/step - loss: 0.1634 - accuracy: 0.9477 - val_loss: 0.7010 - val_accuracy: 0.7561\n",
            "Epoch 42/100\n",
            "5/5 [==============================] - 0s 24ms/step - loss: 0.1571 - accuracy: 0.9346 - val_loss: 0.7027 - val_accuracy: 0.7528\n",
            "Epoch 43/100\n",
            "5/5 [==============================] - 0s 24ms/step - loss: 0.1549 - accuracy: 0.9412 - val_loss: 0.7251 - val_accuracy: 0.7496\n",
            "Epoch 44/100\n",
            "5/5 [==============================] - 0s 24ms/step - loss: 0.1438 - accuracy: 0.9477 - val_loss: 0.7288 - val_accuracy: 0.7480\n",
            "Epoch 45/100\n",
            "5/5 [==============================] - 0s 25ms/step - loss: 0.1399 - accuracy: 0.9477 - val_loss: 0.7272 - val_accuracy: 0.7528\n",
            "Epoch 46/100\n",
            "5/5 [==============================] - 0s 25ms/step - loss: 0.1344 - accuracy: 0.9542 - val_loss: 0.7519 - val_accuracy: 0.7463\n",
            "Epoch 47/100\n",
            "5/5 [==============================] - 0s 27ms/step - loss: 0.1313 - accuracy: 0.9542 - val_loss: 0.7630 - val_accuracy: 0.7398\n",
            "Epoch 48/100\n",
            "5/5 [==============================] - 0s 21ms/step - loss: 0.1221 - accuracy: 0.9739 - val_loss: 0.7628 - val_accuracy: 0.7496\n",
            "Epoch 49/100\n",
            "5/5 [==============================] - 0s 20ms/step - loss: 0.1150 - accuracy: 0.9673 - val_loss: 0.7803 - val_accuracy: 0.7447\n",
            "Epoch 50/100\n",
            "5/5 [==============================] - 0s 24ms/step - loss: 0.1124 - accuracy: 0.9673 - val_loss: 0.7992 - val_accuracy: 0.7463\n",
            "Epoch 51/100\n",
            "5/5 [==============================] - 0s 18ms/step - loss: 0.1063 - accuracy: 0.9673 - val_loss: 0.7967 - val_accuracy: 0.7463\n",
            "Epoch 52/100\n",
            "5/5 [==============================] - 0s 19ms/step - loss: 0.0997 - accuracy: 0.9804 - val_loss: 0.8134 - val_accuracy: 0.7463\n",
            "Epoch 53/100\n",
            "5/5 [==============================] - 0s 26ms/step - loss: 0.0946 - accuracy: 0.9804 - val_loss: 0.8343 - val_accuracy: 0.7431\n",
            "Epoch 54/100\n",
            "5/5 [==============================] - 0s 34ms/step - loss: 0.0908 - accuracy: 0.9673 - val_loss: 0.8438 - val_accuracy: 0.7480\n",
            "Epoch 55/100\n",
            "5/5 [==============================] - 0s 30ms/step - loss: 0.0865 - accuracy: 0.9804 - val_loss: 0.8546 - val_accuracy: 0.7431\n",
            "Epoch 56/100\n",
            "5/5 [==============================] - 0s 31ms/step - loss: 0.0805 - accuracy: 0.9869 - val_loss: 0.8742 - val_accuracy: 0.7398\n",
            "Epoch 57/100\n",
            "5/5 [==============================] - 0s 33ms/step - loss: 0.0774 - accuracy: 0.9869 - val_loss: 0.8770 - val_accuracy: 0.7415\n",
            "Epoch 58/100\n",
            "5/5 [==============================] - 0s 52ms/step - loss: 0.0717 - accuracy: 0.9804 - val_loss: 0.8885 - val_accuracy: 0.7431\n",
            "Epoch 59/100\n",
            "5/5 [==============================] - 0s 27ms/step - loss: 0.0702 - accuracy: 0.9935 - val_loss: 0.9031 - val_accuracy: 0.7398\n",
            "Epoch 60/100\n",
            "5/5 [==============================] - 0s 31ms/step - loss: 0.0661 - accuracy: 0.9935 - val_loss: 0.9120 - val_accuracy: 0.7431\n",
            "Epoch 61/100\n",
            "5/5 [==============================] - 0s 35ms/step - loss: 0.0624 - accuracy: 0.9804 - val_loss: 0.9232 - val_accuracy: 0.7398\n",
            "Epoch 62/100\n",
            "5/5 [==============================] - 0s 31ms/step - loss: 0.0582 - accuracy: 0.9935 - val_loss: 0.9213 - val_accuracy: 0.7415\n",
            "Epoch 63/100\n",
            "5/5 [==============================] - 0s 29ms/step - loss: 0.0563 - accuracy: 0.9935 - val_loss: 0.9335 - val_accuracy: 0.7366\n",
            "Epoch 64/100\n",
            "5/5 [==============================] - 0s 36ms/step - loss: 0.0527 - accuracy: 0.9935 - val_loss: 0.9523 - val_accuracy: 0.7382\n",
            "Epoch 65/100\n",
            "5/5 [==============================] - 0s 29ms/step - loss: 0.0505 - accuracy: 0.9935 - val_loss: 0.9610 - val_accuracy: 0.7366\n",
            "Epoch 66/100\n",
            "5/5 [==============================] - 0s 29ms/step - loss: 0.0488 - accuracy: 0.9935 - val_loss: 0.9751 - val_accuracy: 0.7415\n",
            "Epoch 67/100\n",
            "5/5 [==============================] - 0s 34ms/step - loss: 0.0461 - accuracy: 0.9869 - val_loss: 0.9807 - val_accuracy: 0.7463\n",
            "Epoch 68/100\n",
            "5/5 [==============================] - 0s 30ms/step - loss: 0.0441 - accuracy: 0.9935 - val_loss: 0.9833 - val_accuracy: 0.7398\n",
            "Epoch 69/100\n",
            "5/5 [==============================] - 0s 31ms/step - loss: 0.0413 - accuracy: 0.9935 - val_loss: 1.0097 - val_accuracy: 0.7398\n",
            "Epoch 70/100\n",
            "5/5 [==============================] - 0s 32ms/step - loss: 0.0394 - accuracy: 0.9869 - val_loss: 1.0276 - val_accuracy: 0.7431\n",
            "Epoch 71/100\n",
            "5/5 [==============================] - 0s 55ms/step - loss: 0.0379 - accuracy: 0.9935 - val_loss: 1.0231 - val_accuracy: 0.7431\n",
            "Epoch 72/100\n",
            "5/5 [==============================] - 0s 53ms/step - loss: 0.0347 - accuracy: 0.9935 - val_loss: 1.0397 - val_accuracy: 0.7447\n",
            "Epoch 73/100\n",
            "5/5 [==============================] - 0s 31ms/step - loss: 0.0339 - accuracy: 0.9935 - val_loss: 1.0592 - val_accuracy: 0.7382\n",
            "Epoch 74/100\n",
            "5/5 [==============================] - 0s 34ms/step - loss: 0.0326 - accuracy: 0.9869 - val_loss: 1.0694 - val_accuracy: 0.7415\n",
            "Epoch 75/100\n",
            "5/5 [==============================] - 0s 26ms/step - loss: 0.0310 - accuracy: 0.9935 - val_loss: 1.0680 - val_accuracy: 0.7415\n",
            "Epoch 76/100\n",
            "5/5 [==============================] - 0s 28ms/step - loss: 0.0289 - accuracy: 0.9935 - val_loss: 1.0840 - val_accuracy: 0.7415\n",
            "Epoch 77/100\n",
            "5/5 [==============================] - 0s 27ms/step - loss: 0.0288 - accuracy: 0.9935 - val_loss: 1.0916 - val_accuracy: 0.7415\n",
            "Epoch 78/100\n",
            "5/5 [==============================] - 0s 21ms/step - loss: 0.0269 - accuracy: 1.0000 - val_loss: 1.1112 - val_accuracy: 0.7431\n",
            "Epoch 79/100\n",
            "5/5 [==============================] - 0s 29ms/step - loss: 0.0265 - accuracy: 0.9935 - val_loss: 1.1155 - val_accuracy: 0.7431\n",
            "Epoch 80/100\n",
            "5/5 [==============================] - 0s 26ms/step - loss: 0.0260 - accuracy: 0.9935 - val_loss: 1.1115 - val_accuracy: 0.7415\n",
            "Epoch 81/100\n",
            "5/5 [==============================] - 0s 20ms/step - loss: 0.0263 - accuracy: 0.9935 - val_loss: 1.1260 - val_accuracy: 0.7415\n",
            "Epoch 82/100\n",
            "5/5 [==============================] - 0s 21ms/step - loss: 0.0260 - accuracy: 0.9869 - val_loss: 1.1710 - val_accuracy: 0.7350\n",
            "Epoch 83/100\n",
            "5/5 [==============================] - 0s 22ms/step - loss: 0.0238 - accuracy: 0.9935 - val_loss: 1.1507 - val_accuracy: 0.7382\n",
            "Epoch 84/100\n",
            "5/5 [==============================] - 0s 27ms/step - loss: 0.0235 - accuracy: 0.9935 - val_loss: 1.1402 - val_accuracy: 0.7398\n",
            "Epoch 85/100\n",
            "5/5 [==============================] - 0s 26ms/step - loss: 0.0220 - accuracy: 0.9935 - val_loss: 1.1624 - val_accuracy: 0.7333\n",
            "Epoch 86/100\n",
            "5/5 [==============================] - 0s 29ms/step - loss: 0.0221 - accuracy: 0.9935 - val_loss: 1.1898 - val_accuracy: 0.7366\n",
            "Epoch 87/100\n",
            "5/5 [==============================] - 0s 27ms/step - loss: 0.0206 - accuracy: 0.9935 - val_loss: 1.1794 - val_accuracy: 0.7382\n",
            "Epoch 88/100\n",
            "5/5 [==============================] - 0s 20ms/step - loss: 0.0194 - accuracy: 0.9935 - val_loss: 1.1865 - val_accuracy: 0.7431\n",
            "Epoch 89/100\n",
            "5/5 [==============================] - 0s 26ms/step - loss: 0.0183 - accuracy: 0.9935 - val_loss: 1.2076 - val_accuracy: 0.7366\n",
            "Epoch 90/100\n",
            "5/5 [==============================] - 0s 22ms/step - loss: 0.0173 - accuracy: 1.0000 - val_loss: 1.2210 - val_accuracy: 0.7382\n",
            "Epoch 91/100\n",
            "5/5 [==============================] - 0s 21ms/step - loss: 0.0169 - accuracy: 1.0000 - val_loss: 1.2255 - val_accuracy: 0.7382\n",
            "Epoch 92/100\n",
            "5/5 [==============================] - 0s 26ms/step - loss: 0.0163 - accuracy: 1.0000 - val_loss: 1.2275 - val_accuracy: 0.7366\n",
            "Epoch 93/100\n",
            "5/5 [==============================] - 0s 27ms/step - loss: 0.0159 - accuracy: 1.0000 - val_loss: 1.2407 - val_accuracy: 0.7350\n",
            "Epoch 94/100\n",
            "5/5 [==============================] - 0s 18ms/step - loss: 0.0178 - accuracy: 0.9935 - val_loss: 1.2651 - val_accuracy: 0.7333\n",
            "Epoch 95/100\n",
            "5/5 [==============================] - 0s 27ms/step - loss: 0.0145 - accuracy: 1.0000 - val_loss: 1.2548 - val_accuracy: 0.7333\n",
            "Epoch 96/100\n",
            "5/5 [==============================] - 0s 27ms/step - loss: 0.0141 - accuracy: 1.0000 - val_loss: 1.2534 - val_accuracy: 0.7366\n",
            "Epoch 97/100\n",
            "5/5 [==============================] - 0s 21ms/step - loss: 0.0157 - accuracy: 0.9935 - val_loss: 1.2637 - val_accuracy: 0.7333\n",
            "Epoch 98/100\n",
            "5/5 [==============================] - 0s 26ms/step - loss: 0.0146 - accuracy: 0.9935 - val_loss: 1.2919 - val_accuracy: 0.7301\n",
            "Epoch 99/100\n",
            "5/5 [==============================] - 0s 25ms/step - loss: 0.0156 - accuracy: 0.9935 - val_loss: 1.3071 - val_accuracy: 0.7301\n",
            "Epoch 100/100\n",
            "5/5 [==============================] - 0s 26ms/step - loss: 0.0130 - accuracy: 1.0000 - val_loss: 1.2803 - val_accuracy: 0.7333\n"
          ]
        },
        {
          "output_type": "execute_result",
          "data": {
            "text/plain": [
              "<keras.src.callbacks.History at 0x7e9ac08dad40>"
            ]
          },
          "metadata": {},
          "execution_count": 47
        }
      ]
    },
    {
      "cell_type": "code",
      "source": [
        "def build_model(hp):\n",
        "  model = keras.Sequential()\n",
        "\n",
        "  counter = 0\n",
        "\n",
        "  for i in range(hp.Int('no of layers', min_value=1, max_value=10)):\n",
        "    if counter == 0:\n",
        "      model.add(keras.layers.Dense(hp.Int('units' + str(i), min_value=8, max_value=128, step=8),\n",
        "                                 activation=hp.Choice('activation', ['relu', 'tanh', 'sigmoid']),\n",
        "                                 input_dim=8))\n",
        "    else:\n",
        "      model.add(keras.layers.Dense(hp.Int('units' + str(i), min_value=8, max_value=128, step=8),\n",
        "                                 activation=hp.Choice('activation', ['relu', 'tanh', 'sigmoid'])))\n",
        "    counter += 1\n",
        "\n",
        "  model.add(keras.layers.Dense(1, activation='sigmoid'))\n",
        "\n",
        "  optimizer = hp.Choice('optimizer', values=['adam', 'sgd', 'rmsprop', 'adadelta'])\n",
        "\n",
        "  model.compile(optimizer=optimizer, loss='binary_crossentropy', metrics='accuracy')\n",
        "\n",
        "  return model"
      ],
      "metadata": {
        "id": "LXpSXarJ8Xl9"
      },
      "execution_count": 49,
      "outputs": []
    },
    {
      "cell_type": "code",
      "source": [
        "tuner = kt.RandomSearch(\n",
        "    build_model,\n",
        "    objective='val_accuracy',\n",
        "    max_trials=3,\n",
        "    directory='dir',\n",
        "    project_name='hp_4')"
      ],
      "metadata": {
        "id": "GLTRbHyLBwKD"
      },
      "execution_count": 50,
      "outputs": []
    },
    {
      "cell_type": "code",
      "source": [
        "tuner.search(X_train, y_train, epochs=5, validation_data=(X_test, y_test))"
      ],
      "metadata": {
        "colab": {
          "base_uri": "https://localhost:8080/"
        },
        "id": "8X5EdW6gB5MV",
        "outputId": "99d743c7-de6e-4860-9e26-f369d3018f01"
      },
      "execution_count": 51,
      "outputs": [
        {
          "output_type": "stream",
          "name": "stdout",
          "text": [
            "Trial 3 Complete [00h 00m 02s]\n",
            "val_accuracy: 0.6585366129875183\n",
            "\n",
            "Best val_accuracy So Far: 0.6585366129875183\n",
            "Total elapsed time: 00h 00m 12s\n"
          ]
        }
      ]
    },
    {
      "cell_type": "code",
      "source": [
        "tuner.get_best_hyperparameters()[0].values"
      ],
      "metadata": {
        "colab": {
          "base_uri": "https://localhost:8080/"
        },
        "id": "TGnefCNHCL7P",
        "outputId": "23e5dbdb-00af-401b-fb3b-61c9dc95ee01"
      },
      "execution_count": 52,
      "outputs": [
        {
          "output_type": "execute_result",
          "data": {
            "text/plain": [
              "{'no of layers': 10,\n",
              " 'units0': 96,\n",
              " 'activation': 'relu',\n",
              " 'optimizer': 'adadelta',\n",
              " 'units1': 8,\n",
              " 'units2': 8,\n",
              " 'units3': 8,\n",
              " 'units4': 8,\n",
              " 'units5': 8,\n",
              " 'units6': 8,\n",
              " 'units7': 8,\n",
              " 'units8': 8,\n",
              " 'units9': 8}"
            ]
          },
          "metadata": {},
          "execution_count": 52
        }
      ]
    },
    {
      "cell_type": "code",
      "source": [
        "tuner.results_summary()"
      ],
      "metadata": {
        "colab": {
          "base_uri": "https://localhost:8080/"
        },
        "id": "MRjKlyW6CTwu",
        "outputId": "48733a31-f0a7-4772-ebdc-d8019fdfbdd6"
      },
      "execution_count": 53,
      "outputs": [
        {
          "output_type": "stream",
          "name": "stdout",
          "text": [
            "Results summary\n",
            "Results in dir/hp_4\n",
            "Showing 10 best trials\n",
            "Objective(name=\"val_accuracy\", direction=\"max\")\n",
            "\n",
            "Trial 0 summary\n",
            "Hyperparameters:\n",
            "no of layers: 10\n",
            "units0: 96\n",
            "activation: relu\n",
            "optimizer: adadelta\n",
            "units1: 8\n",
            "units2: 8\n",
            "units3: 8\n",
            "units4: 8\n",
            "units5: 8\n",
            "units6: 8\n",
            "units7: 8\n",
            "units8: 8\n",
            "units9: 8\n",
            "Score: 0.6585366129875183\n",
            "\n",
            "Trial 2 summary\n",
            "Hyperparameters:\n",
            "no of layers: 3\n",
            "units0: 72\n",
            "activation: sigmoid\n",
            "optimizer: rmsprop\n",
            "units1: 104\n",
            "units2: 64\n",
            "units3: 104\n",
            "units4: 120\n",
            "units5: 96\n",
            "units6: 88\n",
            "units7: 96\n",
            "units8: 72\n",
            "units9: 72\n",
            "Score: 0.6585366129875183\n",
            "\n",
            "Trial 1 summary\n",
            "Hyperparameters:\n",
            "no of layers: 8\n",
            "units0: 128\n",
            "activation: sigmoid\n",
            "optimizer: sgd\n",
            "units1: 96\n",
            "units2: 56\n",
            "units3: 64\n",
            "units4: 8\n",
            "units5: 120\n",
            "units6: 64\n",
            "units7: 8\n",
            "units8: 48\n",
            "units9: 112\n",
            "Score: 0.3414634168148041\n"
          ]
        }
      ]
    },
    {
      "cell_type": "code",
      "source": [
        "model = tuner.get_best_models(num_models=1)[0]\n",
        "model.fit(X_train, y_train, batch_size=32, epochs=200, initial_epoch=6, validation_data=(X_test, y_test))"
      ],
      "metadata": {
        "colab": {
          "base_uri": "https://localhost:8080/"
        },
        "id": "SWHsMu5gCqfD",
        "outputId": "e3032c17-a5b2-412d-ba25-4fc0f805454b"
      },
      "execution_count": 55,
      "outputs": [
        {
          "output_type": "stream",
          "name": "stdout",
          "text": [
            "Epoch 7/200\n",
            "5/5 [==============================] - 2s 87ms/step - loss: 0.6920 - accuracy: 0.6209 - val_loss: 0.6914 - val_accuracy: 0.6585\n",
            "Epoch 8/200\n",
            "5/5 [==============================] - 0s 21ms/step - loss: 0.6919 - accuracy: 0.6209 - val_loss: 0.6914 - val_accuracy: 0.6585\n",
            "Epoch 9/200\n",
            "5/5 [==============================] - 0s 20ms/step - loss: 0.6919 - accuracy: 0.6209 - val_loss: 0.6914 - val_accuracy: 0.6585\n",
            "Epoch 10/200\n",
            "5/5 [==============================] - 0s 19ms/step - loss: 0.6919 - accuracy: 0.6209 - val_loss: 0.6914 - val_accuracy: 0.6585\n",
            "Epoch 11/200\n",
            "5/5 [==============================] - 0s 19ms/step - loss: 0.6919 - accuracy: 0.6209 - val_loss: 0.6914 - val_accuracy: 0.6585\n",
            "Epoch 12/200\n",
            "5/5 [==============================] - 0s 19ms/step - loss: 0.6919 - accuracy: 0.6209 - val_loss: 0.6914 - val_accuracy: 0.6585\n",
            "Epoch 13/200\n",
            "5/5 [==============================] - 0s 26ms/step - loss: 0.6919 - accuracy: 0.6209 - val_loss: 0.6914 - val_accuracy: 0.6585\n",
            "Epoch 14/200\n",
            "5/5 [==============================] - 0s 27ms/step - loss: 0.6919 - accuracy: 0.6209 - val_loss: 0.6914 - val_accuracy: 0.6585\n",
            "Epoch 15/200\n",
            "5/5 [==============================] - 0s 22ms/step - loss: 0.6919 - accuracy: 0.6209 - val_loss: 0.6913 - val_accuracy: 0.6585\n",
            "Epoch 16/200\n",
            "5/5 [==============================] - 0s 28ms/step - loss: 0.6919 - accuracy: 0.6209 - val_loss: 0.6913 - val_accuracy: 0.6585\n",
            "Epoch 17/200\n",
            "5/5 [==============================] - 0s 28ms/step - loss: 0.6919 - accuracy: 0.6209 - val_loss: 0.6913 - val_accuracy: 0.6585\n",
            "Epoch 18/200\n",
            "5/5 [==============================] - 0s 31ms/step - loss: 0.6919 - accuracy: 0.6209 - val_loss: 0.6913 - val_accuracy: 0.6585\n",
            "Epoch 19/200\n",
            "5/5 [==============================] - 0s 28ms/step - loss: 0.6919 - accuracy: 0.6209 - val_loss: 0.6913 - val_accuracy: 0.6585\n",
            "Epoch 20/200\n",
            "5/5 [==============================] - 0s 28ms/step - loss: 0.6918 - accuracy: 0.6209 - val_loss: 0.6913 - val_accuracy: 0.6585\n",
            "Epoch 21/200\n",
            "5/5 [==============================] - 0s 29ms/step - loss: 0.6918 - accuracy: 0.6209 - val_loss: 0.6913 - val_accuracy: 0.6585\n",
            "Epoch 22/200\n",
            "5/5 [==============================] - 0s 22ms/step - loss: 0.6918 - accuracy: 0.6209 - val_loss: 0.6913 - val_accuracy: 0.6585\n",
            "Epoch 23/200\n",
            "5/5 [==============================] - 0s 20ms/step - loss: 0.6918 - accuracy: 0.6209 - val_loss: 0.6913 - val_accuracy: 0.6585\n",
            "Epoch 24/200\n",
            "5/5 [==============================] - 0s 25ms/step - loss: 0.6918 - accuracy: 0.6209 - val_loss: 0.6913 - val_accuracy: 0.6585\n",
            "Epoch 25/200\n",
            "5/5 [==============================] - 0s 17ms/step - loss: 0.6918 - accuracy: 0.6209 - val_loss: 0.6913 - val_accuracy: 0.6585\n",
            "Epoch 26/200\n",
            "5/5 [==============================] - 0s 17ms/step - loss: 0.6918 - accuracy: 0.6209 - val_loss: 0.6913 - val_accuracy: 0.6585\n",
            "Epoch 27/200\n",
            "5/5 [==============================] - 0s 19ms/step - loss: 0.6918 - accuracy: 0.6209 - val_loss: 0.6912 - val_accuracy: 0.6585\n",
            "Epoch 28/200\n",
            "5/5 [==============================] - 0s 18ms/step - loss: 0.6918 - accuracy: 0.6209 - val_loss: 0.6912 - val_accuracy: 0.6585\n",
            "Epoch 29/200\n",
            "5/5 [==============================] - 0s 20ms/step - loss: 0.6918 - accuracy: 0.6209 - val_loss: 0.6912 - val_accuracy: 0.6585\n",
            "Epoch 30/200\n",
            "5/5 [==============================] - 0s 20ms/step - loss: 0.6918 - accuracy: 0.6209 - val_loss: 0.6912 - val_accuracy: 0.6585\n",
            "Epoch 31/200\n",
            "5/5 [==============================] - 0s 25ms/step - loss: 0.6918 - accuracy: 0.6209 - val_loss: 0.6912 - val_accuracy: 0.6585\n",
            "Epoch 32/200\n",
            "5/5 [==============================] - 0s 25ms/step - loss: 0.6918 - accuracy: 0.6209 - val_loss: 0.6912 - val_accuracy: 0.6585\n",
            "Epoch 33/200\n",
            "5/5 [==============================] - 0s 25ms/step - loss: 0.6917 - accuracy: 0.6209 - val_loss: 0.6912 - val_accuracy: 0.6585\n",
            "Epoch 34/200\n",
            "5/5 [==============================] - 0s 25ms/step - loss: 0.6917 - accuracy: 0.6209 - val_loss: 0.6912 - val_accuracy: 0.6585\n",
            "Epoch 35/200\n",
            "5/5 [==============================] - 0s 18ms/step - loss: 0.6917 - accuracy: 0.6209 - val_loss: 0.6912 - val_accuracy: 0.6585\n",
            "Epoch 36/200\n",
            "5/5 [==============================] - 0s 26ms/step - loss: 0.6917 - accuracy: 0.6209 - val_loss: 0.6912 - val_accuracy: 0.6585\n",
            "Epoch 37/200\n",
            "5/5 [==============================] - 0s 27ms/step - loss: 0.6917 - accuracy: 0.6209 - val_loss: 0.6912 - val_accuracy: 0.6585\n",
            "Epoch 38/200\n",
            "5/5 [==============================] - 0s 25ms/step - loss: 0.6917 - accuracy: 0.6209 - val_loss: 0.6912 - val_accuracy: 0.6585\n",
            "Epoch 39/200\n",
            "5/5 [==============================] - 0s 17ms/step - loss: 0.6917 - accuracy: 0.6209 - val_loss: 0.6911 - val_accuracy: 0.6585\n",
            "Epoch 40/200\n",
            "5/5 [==============================] - 0s 25ms/step - loss: 0.6917 - accuracy: 0.6209 - val_loss: 0.6911 - val_accuracy: 0.6585\n",
            "Epoch 41/200\n",
            "5/5 [==============================] - 0s 18ms/step - loss: 0.6917 - accuracy: 0.6209 - val_loss: 0.6911 - val_accuracy: 0.6585\n",
            "Epoch 42/200\n",
            "5/5 [==============================] - 0s 25ms/step - loss: 0.6917 - accuracy: 0.6209 - val_loss: 0.6911 - val_accuracy: 0.6585\n",
            "Epoch 43/200\n",
            "5/5 [==============================] - 0s 19ms/step - loss: 0.6917 - accuracy: 0.6209 - val_loss: 0.6911 - val_accuracy: 0.6585\n",
            "Epoch 44/200\n",
            "5/5 [==============================] - 0s 27ms/step - loss: 0.6917 - accuracy: 0.6209 - val_loss: 0.6911 - val_accuracy: 0.6585\n",
            "Epoch 45/200\n",
            "5/5 [==============================] - 0s 24ms/step - loss: 0.6917 - accuracy: 0.6209 - val_loss: 0.6911 - val_accuracy: 0.6585\n",
            "Epoch 46/200\n",
            "5/5 [==============================] - 0s 29ms/step - loss: 0.6917 - accuracy: 0.6209 - val_loss: 0.6911 - val_accuracy: 0.6585\n",
            "Epoch 47/200\n",
            "5/5 [==============================] - 0s 28ms/step - loss: 0.6916 - accuracy: 0.6209 - val_loss: 0.6911 - val_accuracy: 0.6585\n",
            "Epoch 48/200\n",
            "5/5 [==============================] - 0s 22ms/step - loss: 0.6916 - accuracy: 0.6209 - val_loss: 0.6911 - val_accuracy: 0.6585\n",
            "Epoch 49/200\n",
            "5/5 [==============================] - 0s 29ms/step - loss: 0.6916 - accuracy: 0.6209 - val_loss: 0.6911 - val_accuracy: 0.6585\n",
            "Epoch 50/200\n",
            "5/5 [==============================] - 0s 56ms/step - loss: 0.6916 - accuracy: 0.6209 - val_loss: 0.6911 - val_accuracy: 0.6585\n",
            "Epoch 51/200\n",
            "5/5 [==============================] - 0s 55ms/step - loss: 0.6916 - accuracy: 0.6209 - val_loss: 0.6911 - val_accuracy: 0.6585\n",
            "Epoch 52/200\n",
            "5/5 [==============================] - 0s 44ms/step - loss: 0.6916 - accuracy: 0.6209 - val_loss: 0.6910 - val_accuracy: 0.6585\n",
            "Epoch 53/200\n",
            "5/5 [==============================] - 0s 34ms/step - loss: 0.6916 - accuracy: 0.6209 - val_loss: 0.6910 - val_accuracy: 0.6585\n",
            "Epoch 54/200\n",
            "5/5 [==============================] - 0s 32ms/step - loss: 0.6916 - accuracy: 0.6209 - val_loss: 0.6910 - val_accuracy: 0.6585\n",
            "Epoch 55/200\n",
            "5/5 [==============================] - 0s 53ms/step - loss: 0.6916 - accuracy: 0.6209 - val_loss: 0.6910 - val_accuracy: 0.6585\n",
            "Epoch 56/200\n",
            "5/5 [==============================] - 0s 33ms/step - loss: 0.6916 - accuracy: 0.6209 - val_loss: 0.6910 - val_accuracy: 0.6585\n",
            "Epoch 57/200\n",
            "5/5 [==============================] - 0s 27ms/step - loss: 0.6916 - accuracy: 0.6209 - val_loss: 0.6910 - val_accuracy: 0.6585\n",
            "Epoch 58/200\n",
            "5/5 [==============================] - 0s 27ms/step - loss: 0.6916 - accuracy: 0.6209 - val_loss: 0.6910 - val_accuracy: 0.6585\n",
            "Epoch 59/200\n",
            "5/5 [==============================] - 0s 32ms/step - loss: 0.6916 - accuracy: 0.6209 - val_loss: 0.6910 - val_accuracy: 0.6585\n",
            "Epoch 60/200\n",
            "5/5 [==============================] - 0s 31ms/step - loss: 0.6916 - accuracy: 0.6209 - val_loss: 0.6910 - val_accuracy: 0.6585\n",
            "Epoch 61/200\n",
            "5/5 [==============================] - 0s 32ms/step - loss: 0.6915 - accuracy: 0.6209 - val_loss: 0.6910 - val_accuracy: 0.6585\n",
            "Epoch 62/200\n",
            "5/5 [==============================] - 0s 31ms/step - loss: 0.6915 - accuracy: 0.6209 - val_loss: 0.6910 - val_accuracy: 0.6585\n",
            "Epoch 63/200\n",
            "5/5 [==============================] - 0s 30ms/step - loss: 0.6915 - accuracy: 0.6209 - val_loss: 0.6910 - val_accuracy: 0.6585\n",
            "Epoch 64/200\n",
            "5/5 [==============================] - 0s 33ms/step - loss: 0.6915 - accuracy: 0.6209 - val_loss: 0.6910 - val_accuracy: 0.6585\n",
            "Epoch 65/200\n",
            "5/5 [==============================] - 0s 54ms/step - loss: 0.6915 - accuracy: 0.6209 - val_loss: 0.6910 - val_accuracy: 0.6585\n",
            "Epoch 66/200\n",
            "5/5 [==============================] - 0s 44ms/step - loss: 0.6915 - accuracy: 0.6209 - val_loss: 0.6909 - val_accuracy: 0.6585\n",
            "Epoch 67/200\n",
            "5/5 [==============================] - 0s 54ms/step - loss: 0.6915 - accuracy: 0.6209 - val_loss: 0.6909 - val_accuracy: 0.6585\n",
            "Epoch 68/200\n",
            "5/5 [==============================] - 0s 37ms/step - loss: 0.6915 - accuracy: 0.6209 - val_loss: 0.6909 - val_accuracy: 0.6585\n",
            "Epoch 69/200\n",
            "5/5 [==============================] - 0s 18ms/step - loss: 0.6915 - accuracy: 0.6209 - val_loss: 0.6909 - val_accuracy: 0.6585\n",
            "Epoch 70/200\n",
            "5/5 [==============================] - 0s 18ms/step - loss: 0.6915 - accuracy: 0.6209 - val_loss: 0.6909 - val_accuracy: 0.6585\n",
            "Epoch 71/200\n",
            "5/5 [==============================] - 0s 25ms/step - loss: 0.6915 - accuracy: 0.6209 - val_loss: 0.6909 - val_accuracy: 0.6585\n",
            "Epoch 72/200\n",
            "5/5 [==============================] - 0s 26ms/step - loss: 0.6915 - accuracy: 0.6209 - val_loss: 0.6909 - val_accuracy: 0.6585\n",
            "Epoch 73/200\n",
            "5/5 [==============================] - 0s 18ms/step - loss: 0.6915 - accuracy: 0.6209 - val_loss: 0.6909 - val_accuracy: 0.6585\n",
            "Epoch 74/200\n",
            "5/5 [==============================] - 0s 27ms/step - loss: 0.6915 - accuracy: 0.6209 - val_loss: 0.6909 - val_accuracy: 0.6585\n",
            "Epoch 75/200\n",
            "5/5 [==============================] - 0s 25ms/step - loss: 0.6914 - accuracy: 0.6209 - val_loss: 0.6909 - val_accuracy: 0.6585\n",
            "Epoch 76/200\n",
            "5/5 [==============================] - 0s 26ms/step - loss: 0.6914 - accuracy: 0.6209 - val_loss: 0.6909 - val_accuracy: 0.6585\n",
            "Epoch 77/200\n",
            "5/5 [==============================] - 0s 26ms/step - loss: 0.6914 - accuracy: 0.6209 - val_loss: 0.6909 - val_accuracy: 0.6585\n",
            "Epoch 78/200\n",
            "5/5 [==============================] - 0s 25ms/step - loss: 0.6914 - accuracy: 0.6209 - val_loss: 0.6909 - val_accuracy: 0.6585\n",
            "Epoch 79/200\n",
            "5/5 [==============================] - 0s 26ms/step - loss: 0.6914 - accuracy: 0.6209 - val_loss: 0.6909 - val_accuracy: 0.6585\n",
            "Epoch 80/200\n",
            "5/5 [==============================] - 0s 17ms/step - loss: 0.6914 - accuracy: 0.6209 - val_loss: 0.6908 - val_accuracy: 0.6585\n",
            "Epoch 81/200\n",
            "5/5 [==============================] - 0s 25ms/step - loss: 0.6914 - accuracy: 0.6209 - val_loss: 0.6908 - val_accuracy: 0.6585\n",
            "Epoch 82/200\n",
            "5/5 [==============================] - 0s 25ms/step - loss: 0.6914 - accuracy: 0.6209 - val_loss: 0.6908 - val_accuracy: 0.6585\n",
            "Epoch 83/200\n",
            "5/5 [==============================] - 0s 27ms/step - loss: 0.6914 - accuracy: 0.6209 - val_loss: 0.6908 - val_accuracy: 0.6585\n",
            "Epoch 84/200\n",
            "5/5 [==============================] - 0s 25ms/step - loss: 0.6914 - accuracy: 0.6209 - val_loss: 0.6908 - val_accuracy: 0.6585\n",
            "Epoch 85/200\n",
            "5/5 [==============================] - 0s 25ms/step - loss: 0.6914 - accuracy: 0.6209 - val_loss: 0.6908 - val_accuracy: 0.6585\n",
            "Epoch 86/200\n",
            "5/5 [==============================] - 0s 26ms/step - loss: 0.6914 - accuracy: 0.6209 - val_loss: 0.6908 - val_accuracy: 0.6585\n",
            "Epoch 87/200\n",
            "5/5 [==============================] - 0s 26ms/step - loss: 0.6914 - accuracy: 0.6209 - val_loss: 0.6908 - val_accuracy: 0.6585\n",
            "Epoch 88/200\n",
            "5/5 [==============================] - 0s 18ms/step - loss: 0.6914 - accuracy: 0.6209 - val_loss: 0.6908 - val_accuracy: 0.6585\n",
            "Epoch 89/200\n",
            "5/5 [==============================] - 0s 17ms/step - loss: 0.6914 - accuracy: 0.6209 - val_loss: 0.6908 - val_accuracy: 0.6585\n",
            "Epoch 90/200\n",
            "5/5 [==============================] - 0s 19ms/step - loss: 0.6913 - accuracy: 0.6209 - val_loss: 0.6908 - val_accuracy: 0.6585\n",
            "Epoch 91/200\n",
            "5/5 [==============================] - 0s 25ms/step - loss: 0.6913 - accuracy: 0.6209 - val_loss: 0.6908 - val_accuracy: 0.6585\n",
            "Epoch 92/200\n",
            "5/5 [==============================] - 0s 18ms/step - loss: 0.6913 - accuracy: 0.6209 - val_loss: 0.6908 - val_accuracy: 0.6585\n",
            "Epoch 93/200\n",
            "5/5 [==============================] - 0s 20ms/step - loss: 0.6913 - accuracy: 0.6209 - val_loss: 0.6908 - val_accuracy: 0.6585\n",
            "Epoch 94/200\n",
            "5/5 [==============================] - 0s 26ms/step - loss: 0.6913 - accuracy: 0.6209 - val_loss: 0.6907 - val_accuracy: 0.6585\n",
            "Epoch 95/200\n",
            "5/5 [==============================] - 0s 26ms/step - loss: 0.6913 - accuracy: 0.6209 - val_loss: 0.6907 - val_accuracy: 0.6585\n",
            "Epoch 96/200\n",
            "5/5 [==============================] - 0s 25ms/step - loss: 0.6913 - accuracy: 0.6209 - val_loss: 0.6907 - val_accuracy: 0.6585\n",
            "Epoch 97/200\n",
            "5/5 [==============================] - 0s 26ms/step - loss: 0.6913 - accuracy: 0.6209 - val_loss: 0.6907 - val_accuracy: 0.6585\n",
            "Epoch 98/200\n",
            "5/5 [==============================] - 0s 27ms/step - loss: 0.6913 - accuracy: 0.6209 - val_loss: 0.6907 - val_accuracy: 0.6585\n",
            "Epoch 99/200\n",
            "5/5 [==============================] - 0s 21ms/step - loss: 0.6913 - accuracy: 0.6209 - val_loss: 0.6907 - val_accuracy: 0.6585\n",
            "Epoch 100/200\n",
            "5/5 [==============================] - 0s 21ms/step - loss: 0.6913 - accuracy: 0.6209 - val_loss: 0.6907 - val_accuracy: 0.6585\n",
            "Epoch 101/200\n",
            "5/5 [==============================] - 0s 21ms/step - loss: 0.6913 - accuracy: 0.6209 - val_loss: 0.6907 - val_accuracy: 0.6585\n",
            "Epoch 102/200\n",
            "5/5 [==============================] - 0s 28ms/step - loss: 0.6913 - accuracy: 0.6209 - val_loss: 0.6907 - val_accuracy: 0.6585\n",
            "Epoch 103/200\n",
            "5/5 [==============================] - 0s 28ms/step - loss: 0.6913 - accuracy: 0.6209 - val_loss: 0.6907 - val_accuracy: 0.6585\n",
            "Epoch 104/200\n",
            "5/5 [==============================] - 0s 28ms/step - loss: 0.6913 - accuracy: 0.6209 - val_loss: 0.6907 - val_accuracy: 0.6585\n",
            "Epoch 105/200\n",
            "5/5 [==============================] - 0s 27ms/step - loss: 0.6912 - accuracy: 0.6209 - val_loss: 0.6907 - val_accuracy: 0.6585\n",
            "Epoch 106/200\n",
            "5/5 [==============================] - 0s 23ms/step - loss: 0.6912 - accuracy: 0.6209 - val_loss: 0.6907 - val_accuracy: 0.6585\n",
            "Epoch 107/200\n",
            "5/5 [==============================] - 0s 27ms/step - loss: 0.6912 - accuracy: 0.6209 - val_loss: 0.6907 - val_accuracy: 0.6585\n",
            "Epoch 108/200\n",
            "5/5 [==============================] - 0s 20ms/step - loss: 0.6912 - accuracy: 0.6209 - val_loss: 0.6906 - val_accuracy: 0.6585\n",
            "Epoch 109/200\n",
            "5/5 [==============================] - 0s 27ms/step - loss: 0.6912 - accuracy: 0.6209 - val_loss: 0.6906 - val_accuracy: 0.6585\n",
            "Epoch 110/200\n",
            "5/5 [==============================] - 0s 27ms/step - loss: 0.6912 - accuracy: 0.6209 - val_loss: 0.6906 - val_accuracy: 0.6585\n",
            "Epoch 111/200\n",
            "5/5 [==============================] - 0s 22ms/step - loss: 0.6912 - accuracy: 0.6209 - val_loss: 0.6906 - val_accuracy: 0.6585\n",
            "Epoch 112/200\n",
            "5/5 [==============================] - 0s 28ms/step - loss: 0.6912 - accuracy: 0.6209 - val_loss: 0.6906 - val_accuracy: 0.6585\n",
            "Epoch 113/200\n",
            "5/5 [==============================] - 0s 28ms/step - loss: 0.6912 - accuracy: 0.6209 - val_loss: 0.6906 - val_accuracy: 0.6585\n",
            "Epoch 114/200\n",
            "5/5 [==============================] - 0s 20ms/step - loss: 0.6912 - accuracy: 0.6209 - val_loss: 0.6906 - val_accuracy: 0.6585\n",
            "Epoch 115/200\n",
            "5/5 [==============================] - 0s 28ms/step - loss: 0.6912 - accuracy: 0.6209 - val_loss: 0.6906 - val_accuracy: 0.6585\n",
            "Epoch 116/200\n",
            "5/5 [==============================] - 0s 28ms/step - loss: 0.6912 - accuracy: 0.6209 - val_loss: 0.6906 - val_accuracy: 0.6585\n",
            "Epoch 117/200\n",
            "5/5 [==============================] - 0s 28ms/step - loss: 0.6912 - accuracy: 0.6209 - val_loss: 0.6906 - val_accuracy: 0.6585\n",
            "Epoch 118/200\n",
            "5/5 [==============================] - 0s 24ms/step - loss: 0.6912 - accuracy: 0.6209 - val_loss: 0.6906 - val_accuracy: 0.6585\n",
            "Epoch 119/200\n",
            "5/5 [==============================] - 0s 28ms/step - loss: 0.6912 - accuracy: 0.6209 - val_loss: 0.6906 - val_accuracy: 0.6585\n",
            "Epoch 120/200\n",
            "5/5 [==============================] - 0s 27ms/step - loss: 0.6911 - accuracy: 0.6209 - val_loss: 0.6906 - val_accuracy: 0.6585\n",
            "Epoch 121/200\n",
            "5/5 [==============================] - 0s 28ms/step - loss: 0.6911 - accuracy: 0.6209 - val_loss: 0.6906 - val_accuracy: 0.6585\n",
            "Epoch 122/200\n",
            "5/5 [==============================] - 0s 27ms/step - loss: 0.6911 - accuracy: 0.6209 - val_loss: 0.6906 - val_accuracy: 0.6585\n",
            "Epoch 123/200\n",
            "5/5 [==============================] - 0s 21ms/step - loss: 0.6911 - accuracy: 0.6209 - val_loss: 0.6905 - val_accuracy: 0.6585\n",
            "Epoch 124/200\n",
            "5/5 [==============================] - 0s 21ms/step - loss: 0.6911 - accuracy: 0.6209 - val_loss: 0.6905 - val_accuracy: 0.6585\n",
            "Epoch 125/200\n",
            "5/5 [==============================] - 0s 20ms/step - loss: 0.6911 - accuracy: 0.6209 - val_loss: 0.6905 - val_accuracy: 0.6585\n",
            "Epoch 126/200\n",
            "5/5 [==============================] - 0s 21ms/step - loss: 0.6911 - accuracy: 0.6209 - val_loss: 0.6905 - val_accuracy: 0.6585\n",
            "Epoch 127/200\n",
            "5/5 [==============================] - 0s 27ms/step - loss: 0.6911 - accuracy: 0.6209 - val_loss: 0.6905 - val_accuracy: 0.6585\n",
            "Epoch 128/200\n",
            "5/5 [==============================] - 0s 28ms/step - loss: 0.6911 - accuracy: 0.6209 - val_loss: 0.6905 - val_accuracy: 0.6585\n",
            "Epoch 129/200\n",
            "5/5 [==============================] - 0s 28ms/step - loss: 0.6911 - accuracy: 0.6209 - val_loss: 0.6905 - val_accuracy: 0.6585\n",
            "Epoch 130/200\n",
            "5/5 [==============================] - 0s 29ms/step - loss: 0.6911 - accuracy: 0.6209 - val_loss: 0.6905 - val_accuracy: 0.6585\n",
            "Epoch 131/200\n",
            "5/5 [==============================] - 0s 23ms/step - loss: 0.6911 - accuracy: 0.6209 - val_loss: 0.6905 - val_accuracy: 0.6585\n",
            "Epoch 132/200\n",
            "5/5 [==============================] - 0s 28ms/step - loss: 0.6911 - accuracy: 0.6209 - val_loss: 0.6905 - val_accuracy: 0.6585\n",
            "Epoch 133/200\n",
            "5/5 [==============================] - 0s 21ms/step - loss: 0.6911 - accuracy: 0.6209 - val_loss: 0.6905 - val_accuracy: 0.6585\n",
            "Epoch 134/200\n",
            "5/5 [==============================] - 0s 28ms/step - loss: 0.6911 - accuracy: 0.6209 - val_loss: 0.6905 - val_accuracy: 0.6585\n",
            "Epoch 135/200\n",
            "5/5 [==============================] - 0s 28ms/step - loss: 0.6910 - accuracy: 0.6209 - val_loss: 0.6905 - val_accuracy: 0.6585\n",
            "Epoch 136/200\n",
            "5/5 [==============================] - 0s 29ms/step - loss: 0.6910 - accuracy: 0.6209 - val_loss: 0.6905 - val_accuracy: 0.6585\n",
            "Epoch 137/200\n",
            "5/5 [==============================] - 0s 29ms/step - loss: 0.6910 - accuracy: 0.6209 - val_loss: 0.6904 - val_accuracy: 0.6585\n",
            "Epoch 138/200\n",
            "5/5 [==============================] - 0s 29ms/step - loss: 0.6910 - accuracy: 0.6209 - val_loss: 0.6904 - val_accuracy: 0.6585\n",
            "Epoch 139/200\n",
            "5/5 [==============================] - 0s 30ms/step - loss: 0.6910 - accuracy: 0.6209 - val_loss: 0.6904 - val_accuracy: 0.6585\n",
            "Epoch 140/200\n",
            "5/5 [==============================] - 0s 27ms/step - loss: 0.6910 - accuracy: 0.6209 - val_loss: 0.6904 - val_accuracy: 0.6585\n",
            "Epoch 141/200\n",
            "5/5 [==============================] - 0s 21ms/step - loss: 0.6910 - accuracy: 0.6209 - val_loss: 0.6904 - val_accuracy: 0.6585\n",
            "Epoch 142/200\n",
            "5/5 [==============================] - 0s 27ms/step - loss: 0.6910 - accuracy: 0.6209 - val_loss: 0.6904 - val_accuracy: 0.6585\n",
            "Epoch 143/200\n",
            "5/5 [==============================] - 0s 24ms/step - loss: 0.6910 - accuracy: 0.6209 - val_loss: 0.6904 - val_accuracy: 0.6585\n",
            "Epoch 144/200\n",
            "5/5 [==============================] - 0s 29ms/step - loss: 0.6910 - accuracy: 0.6209 - val_loss: 0.6904 - val_accuracy: 0.6585\n",
            "Epoch 145/200\n",
            "5/5 [==============================] - 0s 31ms/step - loss: 0.6910 - accuracy: 0.6209 - val_loss: 0.6904 - val_accuracy: 0.6585\n",
            "Epoch 146/200\n",
            "5/5 [==============================] - 0s 29ms/step - loss: 0.6910 - accuracy: 0.6209 - val_loss: 0.6904 - val_accuracy: 0.6585\n",
            "Epoch 147/200\n",
            "5/5 [==============================] - 0s 21ms/step - loss: 0.6910 - accuracy: 0.6209 - val_loss: 0.6904 - val_accuracy: 0.6585\n",
            "Epoch 148/200\n",
            "5/5 [==============================] - 0s 21ms/step - loss: 0.6910 - accuracy: 0.6209 - val_loss: 0.6904 - val_accuracy: 0.6585\n",
            "Epoch 149/200\n",
            "5/5 [==============================] - 0s 21ms/step - loss: 0.6910 - accuracy: 0.6209 - val_loss: 0.6904 - val_accuracy: 0.6585\n",
            "Epoch 150/200\n",
            "5/5 [==============================] - 0s 23ms/step - loss: 0.6909 - accuracy: 0.6209 - val_loss: 0.6904 - val_accuracy: 0.6585\n",
            "Epoch 151/200\n",
            "5/5 [==============================] - 0s 29ms/step - loss: 0.6909 - accuracy: 0.6209 - val_loss: 0.6904 - val_accuracy: 0.6585\n",
            "Epoch 152/200\n",
            "5/5 [==============================] - 0s 29ms/step - loss: 0.6909 - accuracy: 0.6209 - val_loss: 0.6903 - val_accuracy: 0.6585\n",
            "Epoch 153/200\n",
            "5/5 [==============================] - 0s 22ms/step - loss: 0.6909 - accuracy: 0.6209 - val_loss: 0.6903 - val_accuracy: 0.6585\n",
            "Epoch 154/200\n",
            "5/5 [==============================] - 0s 31ms/step - loss: 0.6909 - accuracy: 0.6209 - val_loss: 0.6903 - val_accuracy: 0.6585\n",
            "Epoch 155/200\n",
            "5/5 [==============================] - 0s 50ms/step - loss: 0.6909 - accuracy: 0.6209 - val_loss: 0.6903 - val_accuracy: 0.6585\n",
            "Epoch 156/200\n",
            "5/5 [==============================] - 0s 54ms/step - loss: 0.6909 - accuracy: 0.6209 - val_loss: 0.6903 - val_accuracy: 0.6585\n",
            "Epoch 157/200\n",
            "5/5 [==============================] - 0s 35ms/step - loss: 0.6909 - accuracy: 0.6209 - val_loss: 0.6903 - val_accuracy: 0.6585\n",
            "Epoch 158/200\n",
            "5/5 [==============================] - 0s 30ms/step - loss: 0.6909 - accuracy: 0.6209 - val_loss: 0.6903 - val_accuracy: 0.6585\n",
            "Epoch 159/200\n",
            "5/5 [==============================] - 0s 28ms/step - loss: 0.6909 - accuracy: 0.6209 - val_loss: 0.6903 - val_accuracy: 0.6585\n",
            "Epoch 160/200\n",
            "5/5 [==============================] - 0s 33ms/step - loss: 0.6909 - accuracy: 0.6209 - val_loss: 0.6903 - val_accuracy: 0.6585\n",
            "Epoch 161/200\n",
            "5/5 [==============================] - 0s 27ms/step - loss: 0.6909 - accuracy: 0.6209 - val_loss: 0.6903 - val_accuracy: 0.6585\n",
            "Epoch 162/200\n",
            "5/5 [==============================] - 0s 28ms/step - loss: 0.6909 - accuracy: 0.6209 - val_loss: 0.6903 - val_accuracy: 0.6585\n",
            "Epoch 163/200\n",
            "5/5 [==============================] - 0s 27ms/step - loss: 0.6909 - accuracy: 0.6209 - val_loss: 0.6903 - val_accuracy: 0.6585\n",
            "Epoch 164/200\n",
            "5/5 [==============================] - 0s 25ms/step - loss: 0.6909 - accuracy: 0.6209 - val_loss: 0.6903 - val_accuracy: 0.6585\n",
            "Epoch 165/200\n",
            "5/5 [==============================] - 0s 30ms/step - loss: 0.6908 - accuracy: 0.6209 - val_loss: 0.6903 - val_accuracy: 0.6585\n",
            "Epoch 166/200\n",
            "5/5 [==============================] - 0s 27ms/step - loss: 0.6908 - accuracy: 0.6209 - val_loss: 0.6903 - val_accuracy: 0.6585\n",
            "Epoch 167/200\n",
            "5/5 [==============================] - 0s 31ms/step - loss: 0.6908 - accuracy: 0.6209 - val_loss: 0.6902 - val_accuracy: 0.6585\n",
            "Epoch 168/200\n",
            "5/5 [==============================] - 0s 54ms/step - loss: 0.6908 - accuracy: 0.6209 - val_loss: 0.6902 - val_accuracy: 0.6585\n",
            "Epoch 169/200\n",
            "5/5 [==============================] - 0s 30ms/step - loss: 0.6908 - accuracy: 0.6209 - val_loss: 0.6902 - val_accuracy: 0.6585\n",
            "Epoch 170/200\n",
            "5/5 [==============================] - 0s 32ms/step - loss: 0.6908 - accuracy: 0.6209 - val_loss: 0.6902 - val_accuracy: 0.6585\n",
            "Epoch 171/200\n",
            "5/5 [==============================] - 0s 55ms/step - loss: 0.6908 - accuracy: 0.6209 - val_loss: 0.6902 - val_accuracy: 0.6585\n",
            "Epoch 172/200\n",
            "5/5 [==============================] - 0s 55ms/step - loss: 0.6908 - accuracy: 0.6209 - val_loss: 0.6902 - val_accuracy: 0.6585\n",
            "Epoch 173/200\n",
            "5/5 [==============================] - 0s 53ms/step - loss: 0.6908 - accuracy: 0.6209 - val_loss: 0.6902 - val_accuracy: 0.6585\n",
            "Epoch 174/200\n",
            "5/5 [==============================] - 0s 55ms/step - loss: 0.6908 - accuracy: 0.6209 - val_loss: 0.6902 - val_accuracy: 0.6585\n",
            "Epoch 175/200\n",
            "5/5 [==============================] - 0s 27ms/step - loss: 0.6908 - accuracy: 0.6209 - val_loss: 0.6902 - val_accuracy: 0.6585\n",
            "Epoch 176/200\n",
            "5/5 [==============================] - 0s 30ms/step - loss: 0.6908 - accuracy: 0.6209 - val_loss: 0.6902 - val_accuracy: 0.6585\n",
            "Epoch 177/200\n",
            "5/5 [==============================] - 0s 28ms/step - loss: 0.6908 - accuracy: 0.6209 - val_loss: 0.6902 - val_accuracy: 0.6585\n",
            "Epoch 178/200\n",
            "5/5 [==============================] - 0s 28ms/step - loss: 0.6908 - accuracy: 0.6209 - val_loss: 0.6902 - val_accuracy: 0.6585\n",
            "Epoch 179/200\n",
            "5/5 [==============================] - 0s 28ms/step - loss: 0.6908 - accuracy: 0.6209 - val_loss: 0.6902 - val_accuracy: 0.6585\n",
            "Epoch 180/200\n",
            "5/5 [==============================] - 0s 24ms/step - loss: 0.6908 - accuracy: 0.6209 - val_loss: 0.6902 - val_accuracy: 0.6585\n",
            "Epoch 181/200\n",
            "5/5 [==============================] - 0s 27ms/step - loss: 0.6907 - accuracy: 0.6209 - val_loss: 0.6902 - val_accuracy: 0.6585\n",
            "Epoch 182/200\n",
            "5/5 [==============================] - 0s 19ms/step - loss: 0.6907 - accuracy: 0.6209 - val_loss: 0.6902 - val_accuracy: 0.6585\n",
            "Epoch 183/200\n",
            "5/5 [==============================] - 0s 30ms/step - loss: 0.6907 - accuracy: 0.6209 - val_loss: 0.6901 - val_accuracy: 0.6585\n",
            "Epoch 184/200\n",
            "5/5 [==============================] - 0s 20ms/step - loss: 0.6907 - accuracy: 0.6209 - val_loss: 0.6901 - val_accuracy: 0.6585\n",
            "Epoch 185/200\n",
            "5/5 [==============================] - 0s 27ms/step - loss: 0.6907 - accuracy: 0.6209 - val_loss: 0.6901 - val_accuracy: 0.6585\n",
            "Epoch 186/200\n",
            "5/5 [==============================] - 0s 21ms/step - loss: 0.6907 - accuracy: 0.6209 - val_loss: 0.6901 - val_accuracy: 0.6585\n",
            "Epoch 187/200\n",
            "5/5 [==============================] - 0s 28ms/step - loss: 0.6907 - accuracy: 0.6209 - val_loss: 0.6901 - val_accuracy: 0.6585\n",
            "Epoch 188/200\n",
            "5/5 [==============================] - 0s 21ms/step - loss: 0.6907 - accuracy: 0.6209 - val_loss: 0.6901 - val_accuracy: 0.6585\n",
            "Epoch 189/200\n",
            "5/5 [==============================] - 0s 33ms/step - loss: 0.6907 - accuracy: 0.6209 - val_loss: 0.6901 - val_accuracy: 0.6585\n",
            "Epoch 190/200\n",
            "5/5 [==============================] - 0s 21ms/step - loss: 0.6907 - accuracy: 0.6209 - val_loss: 0.6901 - val_accuracy: 0.6585\n",
            "Epoch 191/200\n",
            "5/5 [==============================] - 0s 27ms/step - loss: 0.6907 - accuracy: 0.6209 - val_loss: 0.6901 - val_accuracy: 0.6585\n",
            "Epoch 192/200\n",
            "5/5 [==============================] - 0s 21ms/step - loss: 0.6907 - accuracy: 0.6209 - val_loss: 0.6901 - val_accuracy: 0.6585\n",
            "Epoch 193/200\n",
            "5/5 [==============================] - 0s 24ms/step - loss: 0.6907 - accuracy: 0.6209 - val_loss: 0.6901 - val_accuracy: 0.6585\n",
            "Epoch 194/200\n",
            "5/5 [==============================] - 0s 27ms/step - loss: 0.6907 - accuracy: 0.6209 - val_loss: 0.6901 - val_accuracy: 0.6585\n",
            "Epoch 195/200\n",
            "5/5 [==============================] - 0s 21ms/step - loss: 0.6907 - accuracy: 0.6209 - val_loss: 0.6901 - val_accuracy: 0.6585\n",
            "Epoch 196/200\n",
            "5/5 [==============================] - 0s 28ms/step - loss: 0.6907 - accuracy: 0.6209 - val_loss: 0.6901 - val_accuracy: 0.6585\n",
            "Epoch 197/200\n",
            "5/5 [==============================] - 0s 21ms/step - loss: 0.6906 - accuracy: 0.6209 - val_loss: 0.6901 - val_accuracy: 0.6585\n",
            "Epoch 198/200\n",
            "5/5 [==============================] - 0s 31ms/step - loss: 0.6906 - accuracy: 0.6209 - val_loss: 0.6900 - val_accuracy: 0.6585\n",
            "Epoch 199/200\n",
            "5/5 [==============================] - 0s 28ms/step - loss: 0.6906 - accuracy: 0.6209 - val_loss: 0.6900 - val_accuracy: 0.6585\n",
            "Epoch 200/200\n",
            "5/5 [==============================] - 0s 30ms/step - loss: 0.6906 - accuracy: 0.6209 - val_loss: 0.6900 - val_accuracy: 0.6585\n"
          ]
        },
        {
          "output_type": "execute_result",
          "data": {
            "text/plain": [
              "<keras.src.callbacks.History at 0x7e9ad0335300>"
            ]
          },
          "metadata": {},
          "execution_count": 55
        }
      ]
    },
    {
      "cell_type": "code",
      "source": [],
      "metadata": {
        "id": "UTiA7rLNC8Rq"
      },
      "execution_count": null,
      "outputs": []
    }
  ]
}